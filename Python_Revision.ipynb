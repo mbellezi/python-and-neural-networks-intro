{
  "nbformat": 4,
  "nbformat_minor": 0,
  "metadata": {
    "colab": {
      "name": "Python Revision.ipynb",
      "provenance": [],
      "collapsed_sections": [],
      "toc_visible": true,
      "authorship_tag": "ABX9TyMAHXiY+gABhLtqNkK/bHO/",
      "include_colab_link": true
    },
    "kernelspec": {
      "name": "python3",
      "display_name": "Python 3"
    }
  },
  "cells": [
    {
      "cell_type": "markdown",
      "metadata": {
        "id": "view-in-github",
        "colab_type": "text"
      },
      "source": [
        "<a href=\"https://colab.research.google.com/github/mbellezi/python-and-neural-networks-intro/blob/master/Python_Revision.ipynb\" target=\"_parent\"><img src=\"https://colab.research.google.com/assets/colab-badge.svg\" alt=\"Open In Colab\"/></a>"
      ]
    },
    {
      "cell_type": "markdown",
      "metadata": {
        "id": "uTnRVXdi9t5P",
        "colab_type": "text"
      },
      "source": [
        "![texto alternativo](https://pluralsight.imgix.net/paths/python-7be70baaac.png)\n",
        "#Python small revision for programmers\n",
        "\n"
      ]
    },
    {
      "cell_type": "markdown",
      "metadata": {
        "id": "w82cQVEM7CVf",
        "colab_type": "text"
      },
      "source": [
        "# Main Characteristics\n",
        "\n",
        "* Not explicit declaration of types\n",
        "* Interpreted (with JIT compiler)\n",
        "* Functional and OOP Oriented\n",
        "* Namespaces and Modules\n",
        "* Indentation used to separete code blocks\n",
        "\n"
      ]
    },
    {
      "cell_type": "markdown",
      "metadata": {
        "id": "pF0uwBG995-j",
        "colab_type": "text"
      },
      "source": [
        "# Reserved Keywords\n",
        "\n",
        "This are the reserved Python keywords"
      ]
    },
    {
      "cell_type": "code",
      "metadata": {
        "id": "RKy9xKvk6pBW",
        "colab_type": "code",
        "colab": {
          "base_uri": "https://localhost:8080/",
          "height": 238
        },
        "outputId": "c73dc66a-56b4-4392-8e1d-2a26b4c281c1"
      },
      "source": [
        "help('keywords')"
      ],
      "execution_count": null,
      "outputs": [
        {
          "output_type": "stream",
          "text": [
            "\n",
            "Here is a list of the Python keywords.  Enter any keyword to get more help.\n",
            "\n",
            "False               def                 if                  raise\n",
            "None                del                 import              return\n",
            "True                elif                in                  try\n",
            "and                 else                is                  while\n",
            "as                  except              lambda              with\n",
            "assert              finally             nonlocal            yield\n",
            "break               for                 not                 \n",
            "class               from                or                  \n",
            "continue            global              pass                \n",
            "\n"
          ],
          "name": "stdout"
        }
      ]
    },
    {
      "cell_type": "markdown",
      "metadata": {
        "id": "ko3fbwf9AoKQ",
        "colab_type": "text"
      },
      "source": [
        "# Statements and Variables"
      ]
    },
    {
      "cell_type": "markdown",
      "metadata": {
        "id": "xDhs8Ksd-8LM",
        "colab_type": "text"
      },
      "source": [
        "## Variable names\n",
        "\n",
        "Python variable names can be constructed using a combination of letters (lower and uppercase), digits and underscore (_), and must not begin with a digit.\n",
        "\n",
        "**Valid Names:**\n",
        "\n",
        "```\n",
        "Variable1 \n",
        "variable_Spacial\n",
        "v0_b1_\n",
        "```\n",
        "**Invalid Names:**\n",
        "\n",
        "```\n",
        "1Variable\n",
        "0_variable\n",
        "```\n",
        "\n"
      ]
    },
    {
      "cell_type": "markdown",
      "metadata": {
        "id": "a3eXNBmGFxE_",
        "colab_type": "text"
      },
      "source": [
        "## Statements\n",
        "\n",
        "Are logical instructions that pyrhon can execute\n"
      ]
    },
    {
      "cell_type": "markdown",
      "metadata": {
        "id": "GjMVYUnuHr4W",
        "colab_type": "text"
      },
      "source": [
        "### Expressions"
      ]
    },
    {
      "cell_type": "code",
      "metadata": {
        "id": "iuURFLKZGObF",
        "colab_type": "code",
        "colab": {
          "base_uri": "https://localhost:8080/",
          "height": 34
        },
        "outputId": "53f26f43-ae82-4b35-965c-17d4342376f3"
      },
      "source": [
        "1 + 2"
      ],
      "execution_count": null,
      "outputs": [
        {
          "output_type": "execute_result",
          "data": {
            "text/plain": [
              "3"
            ]
          },
          "metadata": {
            "tags": []
          },
          "execution_count": 6
        }
      ]
    },
    {
      "cell_type": "code",
      "metadata": {
        "id": "KMESqsgyGatJ",
        "colab_type": "code",
        "colab": {
          "base_uri": "https://localhost:8080/",
          "height": 34
        },
        "outputId": "bc944d93-c707-4a09-9622-093d55f373fd"
      },
      "source": [
        "(1 + 2) * 5"
      ],
      "execution_count": null,
      "outputs": [
        {
          "output_type": "execute_result",
          "data": {
            "text/plain": [
              "15"
            ]
          },
          "metadata": {
            "tags": []
          },
          "execution_count": 7
        }
      ]
    },
    {
      "cell_type": "code",
      "metadata": {
        "id": "C4RHjGpqGfiU",
        "colab_type": "code",
        "colab": {
          "base_uri": "https://localhost:8080/",
          "height": 34
        },
        "outputId": "534f766f-7630-4a09-e628-2d496c5ce998"
      },
      "source": [
        "2**8"
      ],
      "execution_count": null,
      "outputs": [
        {
          "output_type": "execute_result",
          "data": {
            "text/plain": [
              "256"
            ]
          },
          "metadata": {
            "tags": []
          },
          "execution_count": 8
        }
      ]
    },
    {
      "cell_type": "code",
      "metadata": {
        "id": "RWUdWN7fHaSs",
        "colab_type": "code",
        "colab": {
          "base_uri": "https://localhost:8080/",
          "height": 34
        },
        "outputId": "e37537a8-56f9-4dd4-bc83-aa4245213d01"
      },
      "source": [
        "eval(\"2+5\")"
      ],
      "execution_count": null,
      "outputs": [
        {
          "output_type": "execute_result",
          "data": {
            "text/plain": [
              "7"
            ]
          },
          "metadata": {
            "tags": []
          },
          "execution_count": 12
        }
      ]
    },
    {
      "cell_type": "markdown",
      "metadata": {
        "id": "LF4M8tlaGvEd",
        "colab_type": "text"
      },
      "source": [
        "### Variable assignment\n"
      ]
    },
    {
      "cell_type": "code",
      "metadata": {
        "id": "AuatGRM3HwSL",
        "colab_type": "code",
        "colab": {
          "base_uri": "https://localhost:8080/",
          "height": 34
        },
        "outputId": "df203e0d-e595-4953-edde-020dc61d7016"
      },
      "source": [
        "variable1 = 10\n",
        "variable2 = variable1\n",
        "\n",
        "print(variable1, variable2)"
      ],
      "execution_count": null,
      "outputs": [
        {
          "output_type": "stream",
          "text": [
            "10 10\n"
          ],
          "name": "stdout"
        }
      ]
    },
    {
      "cell_type": "markdown",
      "metadata": {
        "id": "RiTXY9KLIQoN",
        "colab_type": "text"
      },
      "source": [
        "### Multi Line Statement\n",
        "\n",
        "Use the inverted slash (\\\\) to continue a statement in other line "
      ]
    },
    {
      "cell_type": "code",
      "metadata": {
        "id": "Y91yFBOnITvk",
        "colab_type": "code",
        "colab": {
          "base_uri": "https://localhost:8080/",
          "height": 34
        },
        "outputId": "159940ed-29da-4786-8010-d29c94239902"
      },
      "source": [
        "(10 + 15) \\\n",
        "* 4 \\\n",
        "/5"
      ],
      "execution_count": null,
      "outputs": [
        {
          "output_type": "execute_result",
          "data": {
            "text/plain": [
              "20.0"
            ]
          },
          "metadata": {
            "tags": []
          },
          "execution_count": 17
        }
      ]
    },
    {
      "cell_type": "markdown",
      "metadata": {
        "id": "Pm_Zck-VJqec",
        "colab_type": "text"
      },
      "source": [
        "## Data Types\n",
        "\n",
        "Python has a number of native data types:\n",
        "\n",
        "* Numbers\n",
        "* Strings\n",
        "* Bytes\n",
        "* Booleans\n",
        "* Lists\n",
        "* Tuples\n",
        "* Sets\n",
        "* Dictionaries"
      ]
    },
    {
      "cell_type": "markdown",
      "metadata": {
        "id": "ldrhUUeuXXnH",
        "colab_type": "text"
      },
      "source": [
        "### Numbers\n",
        "\n",
        "The Python numerical values  can be classified as `int`, `float` and `complex`. \n",
        "\n",
        "Complex numbers can be represented adding a `j` or a `J` to the end of the number as the imaginary part or use the `complex` function.\n",
        "\n",
        "Examples:\n"
      ]
    },
    {
      "cell_type": "code",
      "metadata": {
        "id": "7jmijukFYaPv",
        "colab_type": "code",
        "colab": {
          "base_uri": "https://localhost:8080/",
          "height": 119
        },
        "outputId": "1b43a8be-2c0e-4b43-b60a-3d55ddc73378"
      },
      "source": [
        "i = 4\n",
        "print(f\"The type of the n variable is {type(i)} and it's value: {i}\")\n",
        "\n",
        "f = 4.5\n",
        "print(f\"The type of the f variable is {type(f)} and it's value: {f}\")\n",
        "\n",
        "a = i*f\n",
        "print(f\"The type of the a variable is {type(a)} and it's value: {a}\")\n",
        "\n",
        "c = 4+5j\n",
        "print(f\"The type of the c variable is {type(c)} and it's value: {c}\")\n",
        "\n",
        "d = complex(6,15)\n",
        "print(f\"The type of the d variable is {type(d)} and it's value: {d}\")\n",
        "\n",
        "e = c+d\n",
        "print(f\"The type of the e variable is {type(e)} and it's value: {e}\")\n"
      ],
      "execution_count": 11,
      "outputs": [
        {
          "output_type": "stream",
          "text": [
            "The type of the n variable is <class 'int'> and it's value: 4\n",
            "The type of the f variable is <class 'float'> and it's value: 4.5\n",
            "The type of the a variable is <class 'float'> and it's value: 18.0\n",
            "The type of the c variable is <class 'complex'> and it's value: (4+5j)\n",
            "The type of the d variable is <class 'complex'> and it's value: (6+15j)\n",
            "The type of the e variable is <class 'complex'> and it's value: (10+20j)\n"
          ],
          "name": "stdout"
        }
      ]
    },
    {
      "cell_type": "markdown",
      "metadata": {
        "id": "L0YCD4wQaDC4",
        "colab_type": "text"
      },
      "source": [
        "Some interesting facts:\n",
        "\n",
        "*   **Integers** do not have a size limit in Pyhton and are only limited by memory\n",
        "*   **Floats** are double 64-bit double precision values and.\n",
        "\n",
        "\n"
      ]
    },
    {
      "cell_type": "markdown",
      "metadata": {
        "id": "AQJyB-dinM1V",
        "colab_type": "text"
      },
      "source": [
        "#### Useful functions\n",
        "\n",
        "To use some math functions one must first import the math library\n",
        "\n",
        "```\n",
        "import math\n",
        "```\n"
      ]
    },
    {
      "cell_type": "markdown",
      "metadata": {
        "id": "gyYdvJrTpQqt",
        "colab_type": "text"
      },
      "source": [
        ""
      ]
    },
    {
      "cell_type": "markdown",
      "metadata": {
        "id": "qjEOYbOWn2hg",
        "colab_type": "text"
      },
      "source": [
        "Find **minimum** and **maximum** of a list of values"
      ]
    },
    {
      "cell_type": "code",
      "metadata": {
        "id": "0xxEpHRqnejO",
        "colab_type": "code",
        "colab": {
          "base_uri": "https://localhost:8080/",
          "height": 34
        },
        "outputId": "fb5e8366-469a-479c-8198-64308449b266"
      },
      "source": [
        "import math\n",
        "\n",
        "min(1.0, 4, 10.5)"
      ],
      "execution_count": 40,
      "outputs": [
        {
          "output_type": "execute_result",
          "data": {
            "text/plain": [
              "1.0"
            ]
          },
          "metadata": {
            "tags": []
          },
          "execution_count": 40
        }
      ]
    },
    {
      "cell_type": "code",
      "metadata": {
        "id": "97IpY-i0oayt",
        "colab_type": "code",
        "colab": {
          "base_uri": "https://localhost:8080/",
          "height": 34
        },
        "outputId": "29f5dd88-9b96-4af4-f0ed-625dbf61e7d1"
      },
      "source": [
        "max(1, 10, 30)"
      ],
      "execution_count": 41,
      "outputs": [
        {
          "output_type": "execute_result",
          "data": {
            "text/plain": [
              "30"
            ]
          },
          "metadata": {
            "tags": []
          },
          "execution_count": 41
        }
      ]
    },
    {
      "cell_type": "markdown",
      "metadata": {
        "id": "vw3eSYi3oLMy",
        "colab_type": "text"
      },
      "source": [
        "Round values\n"
      ]
    },
    {
      "cell_type": "code",
      "metadata": {
        "id": "vCvqckTJoKEK",
        "colab_type": "code",
        "colab": {
          "base_uri": "https://localhost:8080/",
          "height": 34
        },
        "outputId": "d9a73ec6-b937-4db1-da46-82e381f136c2"
      },
      "source": [
        "# Round to the lower interger\n",
        "math.floor(3.777)"
      ],
      "execution_count": 52,
      "outputs": [
        {
          "output_type": "execute_result",
          "data": {
            "text/plain": [
              "3"
            ]
          },
          "metadata": {
            "tags": []
          },
          "execution_count": 52
        }
      ]
    },
    {
      "cell_type": "code",
      "metadata": {
        "id": "P52NIw0Bore0",
        "colab_type": "code",
        "colab": {
          "base_uri": "https://localhost:8080/",
          "height": 34
        },
        "outputId": "79f2acfb-fb79-4e13-da65-75f42c23fdb3"
      },
      "source": [
        "# Round to the upper interger\n",
        "math.ceil(3.777)"
      ],
      "execution_count": 45,
      "outputs": [
        {
          "output_type": "execute_result",
          "data": {
            "text/plain": [
              "4"
            ]
          },
          "metadata": {
            "tags": []
          },
          "execution_count": 45
        }
      ]
    },
    {
      "cell_type": "code",
      "metadata": {
        "id": "FcYmb7x2ow-V",
        "colab_type": "code",
        "colab": {
          "base_uri": "https://localhost:8080/",
          "height": 34
        },
        "outputId": "1e6579ed-41da-4c4e-c42a-58c8284af981"
      },
      "source": [
        "# Round to the nearest interger\n",
        "round(3.777)"
      ],
      "execution_count": 47,
      "outputs": [
        {
          "output_type": "execute_result",
          "data": {
            "text/plain": [
              "4"
            ]
          },
          "metadata": {
            "tags": []
          },
          "execution_count": 47
        }
      ]
    },
    {
      "cell_type": "code",
      "metadata": {
        "id": "d-6sTi53o_iK",
        "colab_type": "code",
        "colab": {
          "base_uri": "https://localhost:8080/",
          "height": 34
        },
        "outputId": "bc81396b-e27d-4d6a-88aa-963f67eb3c0c"
      },
      "source": [
        "round(3.5)"
      ],
      "execution_count": 48,
      "outputs": [
        {
          "output_type": "execute_result",
          "data": {
            "text/plain": [
              "4"
            ]
          },
          "metadata": {
            "tags": []
          },
          "execution_count": 48
        }
      ]
    },
    {
      "cell_type": "code",
      "metadata": {
        "id": "rv25-a_qpDKv",
        "colab_type": "code",
        "colab": {
          "base_uri": "https://localhost:8080/",
          "height": 34
        },
        "outputId": "1258e6de-6c9f-4a3c-c233-7f280af6c6ff"
      },
      "source": [
        "round(3.499999)"
      ],
      "execution_count": 50,
      "outputs": [
        {
          "output_type": "execute_result",
          "data": {
            "text/plain": [
              "3"
            ]
          },
          "metadata": {
            "tags": []
          },
          "execution_count": 50
        }
      ]
    },
    {
      "cell_type": "markdown",
      "metadata": {
        "id": "_0bPYlZKZyOY",
        "colab_type": "text"
      },
      "source": [
        "### Strings\n",
        "\n",
        "A Python String can be represented enclosed by both single `'` or double `\"` quotes.\n",
        "\n",
        "Examples:"
      ]
    },
    {
      "cell_type": "code",
      "metadata": {
        "id": "Dah4CoiFbzH3",
        "colab_type": "code",
        "colab": {
          "base_uri": "https://localhost:8080/",
          "height": 51
        },
        "outputId": "e1c12dbd-44a8-4163-fcf3-b6e31a638589"
      },
      "source": [
        "str1 = 'I\\'n a String using single quotes'\n",
        "print(str1)\n",
        "\n",
        "str2 = \"I'm a String using double quotes\"\n",
        "print(str2)"
      ],
      "execution_count": 15,
      "outputs": [
        {
          "output_type": "stream",
          "text": [
            "I'n a String using single quotes\n",
            "I'm a String using double quotes\n"
          ],
          "name": "stdout"
        }
      ]
    },
    {
      "cell_type": "markdown",
      "metadata": {
        "id": "Tvy0vgOIcwkr",
        "colab_type": "text"
      },
      "source": [
        "Python can use multi line strings using the triple double quotes:\n",
        "\n"
      ]
    },
    {
      "cell_type": "code",
      "metadata": {
        "id": "wKukBE-_cvqt",
        "colab_type": "code",
        "colab": {
          "base_uri": "https://localhost:8080/",
          "height": 51
        },
        "outputId": "6f968d61-3880-4127-d728-73155788634b"
      },
      "source": [
        "str3 = \"\"\"I'm a multiline string,\n",
        "and I can fit in more than one line.\"\"\"\n",
        "print(str3)"
      ],
      "execution_count": 21,
      "outputs": [
        {
          "output_type": "stream",
          "text": [
            "I'm a multiline string,\n",
            "and I can fit in more than one line.\n"
          ],
          "name": "stdout"
        }
      ]
    },
    {
      "cell_type": "markdown",
      "metadata": {
        "id": "eruj3TB4d7Xx",
        "colab_type": "text"
      },
      "source": [
        "String contactenation can be done using the `+` operator:"
      ]
    },
    {
      "cell_type": "code",
      "metadata": {
        "id": "OWw1XNVodmW4",
        "colab_type": "code",
        "colab": {
          "base_uri": "https://localhost:8080/",
          "height": 34
        },
        "outputId": "34f55a76-a936-4174-922b-1bca940e44b6"
      },
      "source": [
        "str4 = \"One of the most used languages for data science is: \"\n",
        "str5 = \"Python\"\n",
        "print(str4+str5)"
      ],
      "execution_count": 23,
      "outputs": [
        {
          "output_type": "stream",
          "text": [
            "One of the most used languages for data science is: Python\n"
          ],
          "name": "stdout"
        }
      ]
    },
    {
      "cell_type": "markdown",
      "metadata": {
        "id": "6O3JQJm4efxn",
        "colab_type": "text"
      },
      "source": [
        "To construct formatted strings a great option is use the `f` prefixed string. They ar constructed places an `f` before the first quotation mark. Inside the string one case inser any expression surround it with braces `{}`. C's `sprintf` like formatting can be used using the method `format` of the class `string`.\n",
        "\n",
        "[Format Cheat Sheet](https://craigmbooth.com/images/blog/pythonstring/PythonNumberFormatting.pdf)"
      ]
    },
    {
      "cell_type": "code",
      "metadata": {
        "id": "qk-OFuC4fnGB",
        "colab_type": "code",
        "colab": {
          "base_uri": "https://localhost:8080/",
          "height": 51
        },
        "outputId": "0da86da4-c3b5-457d-c0c4-f0125283bd85"
      },
      "source": [
        "str6 = f\"The area of a circle o radius 4 is {math.pi*4**2}\"\n",
        "print(str6)\n",
        "\n",
        "str7 = \"The area of a circle o radius 4 is {:.2f}\".format(math.pi*4**2)\n",
        "print(str7)"
      ],
      "execution_count": 53,
      "outputs": [
        {
          "output_type": "stream",
          "text": [
            "The area of a circle o radius 4 is 50.26548245743669\n",
            "The area of a circle o radius 4 is 50.27\n"
          ],
          "name": "stdout"
        }
      ]
    },
    {
      "cell_type": "markdown",
      "metadata": {
        "id": "cDqMFGnHpmrI",
        "colab_type": "text"
      },
      "source": [
        "#### Useful functions\n",
        "\n",
        "The `string` class has some useful manipulation funcions"
      ]
    },
    {
      "cell_type": "markdown",
      "metadata": {
        "id": "hxwtMoUSqs2W",
        "colab_type": "text"
      },
      "source": [
        "**Lower** and **Upper** case a string"
      ]
    },
    {
      "cell_type": "code",
      "metadata": {
        "id": "xJ-dO8q3qyGj",
        "colab_type": "code",
        "colab": {
          "base_uri": "https://localhost:8080/",
          "height": 35
        },
        "outputId": "6533473a-b6ec-44a1-d6df-348a474862ac"
      },
      "source": [
        "\"I want to be upper cased\".upper()"
      ],
      "execution_count": 54,
      "outputs": [
        {
          "output_type": "execute_result",
          "data": {
            "application/vnd.google.colaboratory.intrinsic": {
              "type": "string"
            },
            "text/plain": [
              "'I WANT TO BE UPPER CASED'"
            ]
          },
          "metadata": {
            "tags": []
          },
          "execution_count": 54
        }
      ]
    },
    {
      "cell_type": "code",
      "metadata": {
        "id": "NYYBdN5CrA1g",
        "colab_type": "code",
        "colab": {
          "base_uri": "https://localhost:8080/",
          "height": 35
        },
        "outputId": "144f9051-5abe-4ccd-bd2a-d2becfe98bbd"
      },
      "source": [
        "\"I want to be lower cased\".lower()"
      ],
      "execution_count": 55,
      "outputs": [
        {
          "output_type": "execute_result",
          "data": {
            "application/vnd.google.colaboratory.intrinsic": {
              "type": "string"
            },
            "text/plain": [
              "'i want to be lower cased'"
            ]
          },
          "metadata": {
            "tags": []
          },
          "execution_count": 55
        }
      ]
    }
  ]
}