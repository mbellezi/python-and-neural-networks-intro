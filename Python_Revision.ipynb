{
  "nbformat": 4,
  "nbformat_minor": 0,
  "metadata": {
    "colab": {
      "name": "Python Revision.ipynb",
      "provenance": [],
      "collapsed_sections": [],
      "toc_visible": true,
      "authorship_tag": "ABX9TyPNuiZzwMZo5slEim1ZoMqO",
      "include_colab_link": true
    },
    "kernelspec": {
      "name": "python3",
      "display_name": "Python 3"
    }
  },
  "cells": [
    {
      "cell_type": "markdown",
      "metadata": {
        "id": "view-in-github",
        "colab_type": "text"
      },
      "source": [
        "<a href=\"https://colab.research.google.com/github/mbellezi/python-and-neural-networks-intro/blob/master/Python_Revision.ipynb\" target=\"_parent\"><img src=\"https://colab.research.google.com/assets/colab-badge.svg\" alt=\"Open In Colab\"/></a>"
      ]
    },
    {
      "cell_type": "markdown",
      "metadata": {
        "id": "uTnRVXdi9t5P",
        "colab_type": "text"
      },
      "source": [
        "![texto alternativo](https://pluralsight.imgix.net/paths/python-7be70baaac.png)\n",
        "#Python small revision for programmers\n",
        "\n",
        "[Official Python Language Reference](https://docs.python.org/3.7/)\n",
        "\n",
        "[Google Python Style Guide](https://google.github.io/styleguide/pyguide.html)\n",
        "\n"
      ]
    },
    {
      "cell_type": "markdown",
      "metadata": {
        "id": "w82cQVEM7CVf",
        "colab_type": "text"
      },
      "source": [
        "# Main Characteristics\n",
        "\n",
        "* Not explicit declaration of types\n",
        "* Interpreted (with JIT compiler)\n",
        "* Functional and OOP Oriented\n",
        "* Namespaces and Modules\n",
        "* Indentation used to separete code blocks\n",
        "\n"
      ]
    },
    {
      "cell_type": "markdown",
      "metadata": {
        "id": "pF0uwBG995-j",
        "colab_type": "text"
      },
      "source": [
        "# Reserved Keywords\n",
        "\n",
        "This are the reserved Python keywords"
      ]
    },
    {
      "cell_type": "code",
      "metadata": {
        "id": "RKy9xKvk6pBW",
        "colab_type": "code",
        "colab": {
          "base_uri": "https://localhost:8080/",
          "height": 238
        },
        "outputId": "c73dc66a-56b4-4392-8e1d-2a26b4c281c1"
      },
      "source": [
        "help('keywords')"
      ],
      "execution_count": null,
      "outputs": [
        {
          "output_type": "stream",
          "text": [
            "\n",
            "Here is a list of the Python keywords.  Enter any keyword to get more help.\n",
            "\n",
            "False               def                 if                  raise\n",
            "None                del                 import              return\n",
            "True                elif                in                  try\n",
            "and                 else                is                  while\n",
            "as                  except              lambda              with\n",
            "assert              finally             nonlocal            yield\n",
            "break               for                 not                 \n",
            "class               from                or                  \n",
            "continue            global              pass                \n",
            "\n"
          ],
          "name": "stdout"
        }
      ]
    },
    {
      "cell_type": "markdown",
      "metadata": {
        "id": "ko3fbwf9AoKQ",
        "colab_type": "text"
      },
      "source": [
        "# Statements and Variables"
      ]
    },
    {
      "cell_type": "markdown",
      "metadata": {
        "id": "xDhs8Ksd-8LM",
        "colab_type": "text"
      },
      "source": [
        "## Variable names\n",
        "\n",
        "Python variable names can be constructed using a combination of letters (lower and uppercase), digits and underscore (_), and must not begin with a digit.\n",
        "\n",
        "**Valid Names:**\n",
        "\n",
        "```\n",
        "Variable1 \n",
        "variable_Spacial\n",
        "v0_b1_\n",
        "```\n",
        "**Invalid Names:**\n",
        "\n",
        "```\n",
        "1Variable\n",
        "0_variable\n",
        "```\n",
        "\n"
      ]
    },
    {
      "cell_type": "markdown",
      "metadata": {
        "id": "a3eXNBmGFxE_",
        "colab_type": "text"
      },
      "source": [
        "## Statements\n",
        "\n",
        "Are logical instructions that pyrhon can execute\n"
      ]
    },
    {
      "cell_type": "markdown",
      "metadata": {
        "id": "GjMVYUnuHr4W",
        "colab_type": "text"
      },
      "source": [
        "### Expressions"
      ]
    },
    {
      "cell_type": "code",
      "metadata": {
        "id": "iuURFLKZGObF",
        "colab_type": "code",
        "colab": {
          "base_uri": "https://localhost:8080/",
          "height": 34
        },
        "outputId": "53f26f43-ae82-4b35-965c-17d4342376f3"
      },
      "source": [
        "1 + 2"
      ],
      "execution_count": null,
      "outputs": [
        {
          "output_type": "execute_result",
          "data": {
            "text/plain": [
              "3"
            ]
          },
          "metadata": {
            "tags": []
          },
          "execution_count": 6
        }
      ]
    },
    {
      "cell_type": "code",
      "metadata": {
        "id": "KMESqsgyGatJ",
        "colab_type": "code",
        "colab": {
          "base_uri": "https://localhost:8080/",
          "height": 34
        },
        "outputId": "bc944d93-c707-4a09-9622-093d55f373fd"
      },
      "source": [
        "(1 + 2) * 5"
      ],
      "execution_count": null,
      "outputs": [
        {
          "output_type": "execute_result",
          "data": {
            "text/plain": [
              "15"
            ]
          },
          "metadata": {
            "tags": []
          },
          "execution_count": 7
        }
      ]
    },
    {
      "cell_type": "code",
      "metadata": {
        "id": "C4RHjGpqGfiU",
        "colab_type": "code",
        "colab": {
          "base_uri": "https://localhost:8080/",
          "height": 34
        },
        "outputId": "534f766f-7630-4a09-e628-2d496c5ce998"
      },
      "source": [
        "2**8"
      ],
      "execution_count": null,
      "outputs": [
        {
          "output_type": "execute_result",
          "data": {
            "text/plain": [
              "256"
            ]
          },
          "metadata": {
            "tags": []
          },
          "execution_count": 8
        }
      ]
    },
    {
      "cell_type": "code",
      "metadata": {
        "id": "RWUdWN7fHaSs",
        "colab_type": "code",
        "colab": {
          "base_uri": "https://localhost:8080/",
          "height": 34
        },
        "outputId": "e37537a8-56f9-4dd4-bc83-aa4245213d01"
      },
      "source": [
        "eval(\"2+5\")"
      ],
      "execution_count": null,
      "outputs": [
        {
          "output_type": "execute_result",
          "data": {
            "text/plain": [
              "7"
            ]
          },
          "metadata": {
            "tags": []
          },
          "execution_count": 12
        }
      ]
    },
    {
      "cell_type": "markdown",
      "metadata": {
        "id": "LF4M8tlaGvEd",
        "colab_type": "text"
      },
      "source": [
        "### Variable assignment\n"
      ]
    },
    {
      "cell_type": "code",
      "metadata": {
        "id": "AuatGRM3HwSL",
        "colab_type": "code",
        "colab": {
          "base_uri": "https://localhost:8080/",
          "height": 34
        },
        "outputId": "df203e0d-e595-4953-edde-020dc61d7016"
      },
      "source": [
        "variable1 = 10\n",
        "variable2 = variable1\n",
        "\n",
        "print(variable1, variable2)"
      ],
      "execution_count": null,
      "outputs": [
        {
          "output_type": "stream",
          "text": [
            "10 10\n"
          ],
          "name": "stdout"
        }
      ]
    },
    {
      "cell_type": "markdown",
      "metadata": {
        "id": "RiTXY9KLIQoN",
        "colab_type": "text"
      },
      "source": [
        "### Multi Line Statement\n",
        "\n",
        "Use the inverted slash (\\\\) to continue a statement in other line "
      ]
    },
    {
      "cell_type": "code",
      "metadata": {
        "id": "Y91yFBOnITvk",
        "colab_type": "code",
        "colab": {
          "base_uri": "https://localhost:8080/",
          "height": 35
        },
        "outputId": "34373074-1f4b-4a73-8698-fa8f3c0738e9"
      },
      "source": [
        "(10 + 15) \\\n",
        "* 4 \\\n",
        "/5"
      ],
      "execution_count": null,
      "outputs": [
        {
          "output_type": "execute_result",
          "data": {
            "text/plain": [
              "20.0"
            ]
          },
          "metadata": {
            "tags": []
          },
          "execution_count": 1
        }
      ]
    },
    {
      "cell_type": "markdown",
      "metadata": {
        "id": "Pm_Zck-VJqec",
        "colab_type": "text"
      },
      "source": [
        "## Data Types\n",
        "\n",
        "Python has a number of native data types:\n",
        "\n",
        "* Numbers\n",
        "* Strings\n",
        "* Bytes\n",
        "* Booleans\n",
        "* Lists\n",
        "* Tuples\n",
        "* Sets\n",
        "* Dictionaries"
      ]
    },
    {
      "cell_type": "markdown",
      "metadata": {
        "id": "ldrhUUeuXXnH",
        "colab_type": "text"
      },
      "source": [
        "### Numbers\n",
        "\n",
        "The Python numerical values  can be classified as `int`, `float` and `complex`. \n",
        "\n",
        "Complex numbers can be represented adding a `j` or a `J` to the end of the number as the imaginary part or use the `complex` function.\n",
        "\n",
        "Examples:\n"
      ]
    },
    {
      "cell_type": "code",
      "metadata": {
        "id": "7jmijukFYaPv",
        "colab_type": "code",
        "colab": {
          "base_uri": "https://localhost:8080/",
          "height": 119
        },
        "outputId": "1b43a8be-2c0e-4b43-b60a-3d55ddc73378"
      },
      "source": [
        "i = 4\n",
        "print(f\"The type of the n variable is {type(i)} and it's value: {i}\")\n",
        "\n",
        "f = 4.5\n",
        "print(f\"The type of the f variable is {type(f)} and it's value: {f}\")\n",
        "\n",
        "a = i*f\n",
        "print(f\"The type of the a variable is {type(a)} and it's value: {a}\")\n",
        "\n",
        "c = 4+5j\n",
        "print(f\"The type of the c variable is {type(c)} and it's value: {c}\")\n",
        "\n",
        "d = complex(6,15)\n",
        "print(f\"The type of the d variable is {type(d)} and it's value: {d}\")\n",
        "\n",
        "e = c+d\n",
        "print(f\"The type of the e variable is {type(e)} and it's value: {e}\")\n"
      ],
      "execution_count": null,
      "outputs": [
        {
          "output_type": "stream",
          "text": [
            "The type of the n variable is <class 'int'> and it's value: 4\n",
            "The type of the f variable is <class 'float'> and it's value: 4.5\n",
            "The type of the a variable is <class 'float'> and it's value: 18.0\n",
            "The type of the c variable is <class 'complex'> and it's value: (4+5j)\n",
            "The type of the d variable is <class 'complex'> and it's value: (6+15j)\n",
            "The type of the e variable is <class 'complex'> and it's value: (10+20j)\n"
          ],
          "name": "stdout"
        }
      ]
    },
    {
      "cell_type": "markdown",
      "metadata": {
        "id": "L0YCD4wQaDC4",
        "colab_type": "text"
      },
      "source": [
        "Some interesting facts:\n",
        "\n",
        "*   **Integers** do not have a size limit in Pyhton and are only limited by memory\n",
        "*   **Floats** are double 64-bit double precision values and.\n",
        "\n",
        "\n"
      ]
    },
    {
      "cell_type": "markdown",
      "metadata": {
        "id": "AQJyB-dinM1V",
        "colab_type": "text"
      },
      "source": [
        "#### Useful functions\n",
        "\n",
        "To use some math functions one must first import the math library\n",
        "\n",
        "```\n",
        "import math\n",
        "```\n"
      ]
    },
    {
      "cell_type": "markdown",
      "metadata": {
        "id": "gyYdvJrTpQqt",
        "colab_type": "text"
      },
      "source": [
        ""
      ]
    },
    {
      "cell_type": "markdown",
      "metadata": {
        "id": "qjEOYbOWn2hg",
        "colab_type": "text"
      },
      "source": [
        "Find **minimum** and **maximum** of a list of values"
      ]
    },
    {
      "cell_type": "code",
      "metadata": {
        "id": "0xxEpHRqnejO",
        "colab_type": "code",
        "colab": {
          "base_uri": "https://localhost:8080/",
          "height": 34
        },
        "outputId": "ca90f172-f989-4b53-ede7-90b4ed30e58a"
      },
      "source": [
        "import math\n",
        "\n",
        "min(1.0, 4, 10.5)"
      ],
      "execution_count": 23,
      "outputs": [
        {
          "output_type": "execute_result",
          "data": {
            "text/plain": [
              "1.0"
            ]
          },
          "metadata": {
            "tags": []
          },
          "execution_count": 23
        }
      ]
    },
    {
      "cell_type": "code",
      "metadata": {
        "id": "97IpY-i0oayt",
        "colab_type": "code",
        "colab": {
          "base_uri": "https://localhost:8080/",
          "height": 34
        },
        "outputId": "29f5dd88-9b96-4af4-f0ed-625dbf61e7d1"
      },
      "source": [
        "max(1, 10, 30)"
      ],
      "execution_count": null,
      "outputs": [
        {
          "output_type": "execute_result",
          "data": {
            "text/plain": [
              "30"
            ]
          },
          "metadata": {
            "tags": []
          },
          "execution_count": 41
        }
      ]
    },
    {
      "cell_type": "markdown",
      "metadata": {
        "id": "vw3eSYi3oLMy",
        "colab_type": "text"
      },
      "source": [
        "Round values\n"
      ]
    },
    {
      "cell_type": "code",
      "metadata": {
        "id": "vCvqckTJoKEK",
        "colab_type": "code",
        "colab": {
          "base_uri": "https://localhost:8080/",
          "height": 34
        },
        "outputId": "d9a73ec6-b937-4db1-da46-82e381f136c2"
      },
      "source": [
        "# Round to the lower integer\n",
        "math.floor(3.777)"
      ],
      "execution_count": null,
      "outputs": [
        {
          "output_type": "execute_result",
          "data": {
            "text/plain": [
              "3"
            ]
          },
          "metadata": {
            "tags": []
          },
          "execution_count": 52
        }
      ]
    },
    {
      "cell_type": "code",
      "metadata": {
        "id": "P52NIw0Bore0",
        "colab_type": "code",
        "colab": {
          "base_uri": "https://localhost:8080/",
          "height": 34
        },
        "outputId": "79f2acfb-fb79-4e13-da65-75f42c23fdb3"
      },
      "source": [
        "# Round to the upper integer\n",
        "math.ceil(3.777)"
      ],
      "execution_count": null,
      "outputs": [
        {
          "output_type": "execute_result",
          "data": {
            "text/plain": [
              "4"
            ]
          },
          "metadata": {
            "tags": []
          },
          "execution_count": 45
        }
      ]
    },
    {
      "cell_type": "code",
      "metadata": {
        "id": "FcYmb7x2ow-V",
        "colab_type": "code",
        "colab": {
          "base_uri": "https://localhost:8080/",
          "height": 34
        },
        "outputId": "1e6579ed-41da-4c4e-c42a-58c8284af981"
      },
      "source": [
        "# Round to the nearest integer\n",
        "round(3.777)"
      ],
      "execution_count": null,
      "outputs": [
        {
          "output_type": "execute_result",
          "data": {
            "text/plain": [
              "4"
            ]
          },
          "metadata": {
            "tags": []
          },
          "execution_count": 47
        }
      ]
    },
    {
      "cell_type": "code",
      "metadata": {
        "id": "d-6sTi53o_iK",
        "colab_type": "code",
        "colab": {
          "base_uri": "https://localhost:8080/",
          "height": 34
        },
        "outputId": "bc81396b-e27d-4d6a-88aa-963f67eb3c0c"
      },
      "source": [
        "round(3.5)"
      ],
      "execution_count": null,
      "outputs": [
        {
          "output_type": "execute_result",
          "data": {
            "text/plain": [
              "4"
            ]
          },
          "metadata": {
            "tags": []
          },
          "execution_count": 48
        }
      ]
    },
    {
      "cell_type": "code",
      "metadata": {
        "id": "rv25-a_qpDKv",
        "colab_type": "code",
        "colab": {
          "base_uri": "https://localhost:8080/",
          "height": 34
        },
        "outputId": "1258e6de-6c9f-4a3c-c233-7f280af6c6ff"
      },
      "source": [
        "round(3.499999)"
      ],
      "execution_count": null,
      "outputs": [
        {
          "output_type": "execute_result",
          "data": {
            "text/plain": [
              "3"
            ]
          },
          "metadata": {
            "tags": []
          },
          "execution_count": 50
        }
      ]
    },
    {
      "cell_type": "markdown",
      "metadata": {
        "id": "_0bPYlZKZyOY",
        "colab_type": "text"
      },
      "source": [
        "### Strings\n",
        "\n",
        "A Python String can be represented enclosed by both single `'` or double `\"` quotes.\n",
        "\n",
        "Examples:"
      ]
    },
    {
      "cell_type": "code",
      "metadata": {
        "id": "Dah4CoiFbzH3",
        "colab_type": "code",
        "colab": {
          "base_uri": "https://localhost:8080/",
          "height": 51
        },
        "outputId": "e1c12dbd-44a8-4163-fcf3-b6e31a638589"
      },
      "source": [
        "str1 = 'I\\'n a String using single quotes'\n",
        "print(str1)\n",
        "\n",
        "str2 = \"I'm a String using double quotes\"\n",
        "print(str2)"
      ],
      "execution_count": null,
      "outputs": [
        {
          "output_type": "stream",
          "text": [
            "I'n a String using single quotes\n",
            "I'm a String using double quotes\n"
          ],
          "name": "stdout"
        }
      ]
    },
    {
      "cell_type": "markdown",
      "metadata": {
        "id": "Tvy0vgOIcwkr",
        "colab_type": "text"
      },
      "source": [
        "Python can use multi line strings using the triple double quotes:\n",
        "\n"
      ]
    },
    {
      "cell_type": "markdown",
      "metadata": {
        "id": "uWSKxq05N5E3",
        "colab_type": "text"
      },
      "source": [
        ""
      ]
    },
    {
      "cell_type": "code",
      "metadata": {
        "id": "wKukBE-_cvqt",
        "colab_type": "code",
        "colab": {
          "base_uri": "https://localhost:8080/",
          "height": 51
        },
        "outputId": "35fb7cd1-3d46-41a2-ce43-a9e5f5730823"
      },
      "source": [
        "str = \"\"\"I'm a multiline string,\n",
        "and I can fit in more than one line.\"\"\"\n",
        "print(str)"
      ],
      "execution_count": 21,
      "outputs": [
        {
          "output_type": "stream",
          "text": [
            "I'm a multiline string,\n",
            "and I can fit in more than one line.\n"
          ],
          "name": "stdout"
        }
      ]
    },
    {
      "cell_type": "markdown",
      "metadata": {
        "id": "6O3JQJm4efxn",
        "colab_type": "text"
      },
      "source": [
        "To construct formatted strings a great option is use the `f` prefixed string. They ar constructed places an `f` before the first quotation mark. Inside the string one case inser any expression surround it with braces `{}`. C's `sprintf` like formatting can be used using the method `format` of the class `string`.\n",
        "\n",
        "[Format Cheat Sheet](https://craigmbooth.com/images/blog/pythonstring/PythonNumberFormatting.pdf)"
      ]
    },
    {
      "cell_type": "code",
      "metadata": {
        "id": "qk-OFuC4fnGB",
        "colab_type": "code",
        "colab": {
          "base_uri": "https://localhost:8080/",
          "height": 51
        },
        "outputId": "9ce6836f-f83f-445f-d512-0ca7f9e7b441"
      },
      "source": [
        "str1 = f\"The area of a circle o radius 4 is {math.pi*4**2}\"\n",
        "print(str1)\n",
        "\n",
        "str2 = \"The area of a circle o radius 4 is {:.2f}\".format(math.pi*4**2)\n",
        "print(str2)"
      ],
      "execution_count": 24,
      "outputs": [
        {
          "output_type": "stream",
          "text": [
            "The area of a circle o radius 4 is 50.26548245743669\n",
            "The area of a circle o radius 4 is 50.27\n"
          ],
          "name": "stdout"
        }
      ]
    },
    {
      "cell_type": "markdown",
      "metadata": {
        "id": "cDqMFGnHpmrI",
        "colab_type": "text"
      },
      "source": [
        "#### Useful functions\n",
        "\n",
        "The `string` class has some useful manipulation funcions"
      ]
    },
    {
      "cell_type": "markdown",
      "metadata": {
        "id": "hxwtMoUSqs2W",
        "colab_type": "text"
      },
      "source": [
        "**Lower** and **Upper** case a string"
      ]
    },
    {
      "cell_type": "code",
      "metadata": {
        "id": "xJ-dO8q3qyGj",
        "colab_type": "code",
        "colab": {
          "base_uri": "https://localhost:8080/",
          "height": 35
        },
        "outputId": "6533473a-b6ec-44a1-d6df-348a474862ac"
      },
      "source": [
        "\"I want to be upper cased\".upper()"
      ],
      "execution_count": null,
      "outputs": [
        {
          "output_type": "execute_result",
          "data": {
            "application/vnd.google.colaboratory.intrinsic": {
              "type": "string"
            },
            "text/plain": [
              "'I WANT TO BE UPPER CASED'"
            ]
          },
          "metadata": {
            "tags": []
          },
          "execution_count": 54
        }
      ]
    },
    {
      "cell_type": "code",
      "metadata": {
        "id": "NYYBdN5CrA1g",
        "colab_type": "code",
        "colab": {
          "base_uri": "https://localhost:8080/",
          "height": 35
        },
        "outputId": "144f9051-5abe-4ccd-bd2a-d2becfe98bbd"
      },
      "source": [
        "\"I want to be lower cased\".lower()"
      ],
      "execution_count": null,
      "outputs": [
        {
          "output_type": "execute_result",
          "data": {
            "application/vnd.google.colaboratory.intrinsic": {
              "type": "string"
            },
            "text/plain": [
              "'i want to be lower cased'"
            ]
          },
          "metadata": {
            "tags": []
          },
          "execution_count": 55
        }
      ]
    },
    {
      "cell_type": "markdown",
      "metadata": {
        "id": "s0KwxfReRRhg",
        "colab_type": "text"
      },
      "source": [
        "#### String operators\n",
        "\n",
        "A substring can be constructed using the slice `[]`  and range slice `[:]` operators"
      ]
    },
    {
      "cell_type": "code",
      "metadata": {
        "id": "nqr1Hk8VR5mK",
        "colab_type": "code",
        "colab": {}
      },
      "source": [
        "#  T    h   i   s       i   s     a     s   t   r   i   n  g \n",
        "#------------------------------------------------------------\n",
        "#  0    1   2   3   4   5   6  7  8  9  10  11  12  13  14 15\n",
        "# -16 -15 -14 -13 -12 -11 -10 -9 -8 -7 -6  -5  -4  -3  -2  -1\n",
        "\n",
        "str = \"This is a string\""
      ],
      "execution_count": 2,
      "outputs": []
    },
    {
      "cell_type": "code",
      "metadata": {
        "id": "PYwquRvdTDtr",
        "colab_type": "code",
        "colab": {
          "base_uri": "https://localhost:8080/",
          "height": 35
        },
        "outputId": "0611e4c0-5fac-4b22-952b-8e2dd8c662ce"
      },
      "source": [
        "str[0]"
      ],
      "execution_count": 3,
      "outputs": [
        {
          "output_type": "execute_result",
          "data": {
            "application/vnd.google.colaboratory.intrinsic": {
              "type": "string"
            },
            "text/plain": [
              "'T'"
            ]
          },
          "metadata": {
            "tags": []
          },
          "execution_count": 3
        }
      ]
    },
    {
      "cell_type": "code",
      "metadata": {
        "id": "Q0B_H_DvTHnE",
        "colab_type": "code",
        "colab": {
          "base_uri": "https://localhost:8080/",
          "height": 35
        },
        "outputId": "e5153b2d-f484-4ea8-de55-196dadfb8fae"
      },
      "source": [
        "str[-16]"
      ],
      "execution_count": 6,
      "outputs": [
        {
          "output_type": "execute_result",
          "data": {
            "application/vnd.google.colaboratory.intrinsic": {
              "type": "string"
            },
            "text/plain": [
              "'T'"
            ]
          },
          "metadata": {
            "tags": []
          },
          "execution_count": 6
        }
      ]
    },
    {
      "cell_type": "code",
      "metadata": {
        "id": "XEYU2orSTbPa",
        "colab_type": "code",
        "colab": {
          "base_uri": "https://localhost:8080/",
          "height": 35
        },
        "outputId": "5137fc33-18f2-4850-abdb-d63b0afe28ff"
      },
      "source": [
        "str[15]"
      ],
      "execution_count": 8,
      "outputs": [
        {
          "output_type": "execute_result",
          "data": {
            "application/vnd.google.colaboratory.intrinsic": {
              "type": "string"
            },
            "text/plain": [
              "'g'"
            ]
          },
          "metadata": {
            "tags": []
          },
          "execution_count": 8
        }
      ]
    },
    {
      "cell_type": "code",
      "metadata": {
        "id": "ykG0z7GlTgOc",
        "colab_type": "code",
        "colab": {
          "base_uri": "https://localhost:8080/",
          "height": 35
        },
        "outputId": "a0997bf2-a41f-4665-f643-03e30b711ed9"
      },
      "source": [
        "str[0:4]"
      ],
      "execution_count": 12,
      "outputs": [
        {
          "output_type": "execute_result",
          "data": {
            "application/vnd.google.colaboratory.intrinsic": {
              "type": "string"
            },
            "text/plain": [
              "'This'"
            ]
          },
          "metadata": {
            "tags": []
          },
          "execution_count": 12
        }
      ]
    },
    {
      "cell_type": "code",
      "metadata": {
        "id": "eRskLoSlTsUQ",
        "colab_type": "code",
        "colab": {
          "base_uri": "https://localhost:8080/",
          "height": 35
        },
        "outputId": "ae5ac791-4bd2-4cdf-82fb-fe370a37c93e"
      },
      "source": [
        "str[-13:-16]"
      ],
      "execution_count": 16,
      "outputs": [
        {
          "output_type": "execute_result",
          "data": {
            "application/vnd.google.colaboratory.intrinsic": {
              "type": "string"
            },
            "text/plain": [
              "''"
            ]
          },
          "metadata": {
            "tags": []
          },
          "execution_count": 16
        }
      ]
    },
    {
      "cell_type": "code",
      "metadata": {
        "id": "m7kqMkehT1w-",
        "colab_type": "code",
        "colab": {
          "base_uri": "https://localhost:8080/",
          "height": 35
        },
        "outputId": "22e59361-a04b-44bf-e551-5e70bab36f82"
      },
      "source": [
        "str[-16:4]"
      ],
      "execution_count": 17,
      "outputs": [
        {
          "output_type": "execute_result",
          "data": {
            "application/vnd.google.colaboratory.intrinsic": {
              "type": "string"
            },
            "text/plain": [
              "'This'"
            ]
          },
          "metadata": {
            "tags": []
          },
          "execution_count": 17
        }
      ]
    },
    {
      "cell_type": "code",
      "metadata": {
        "id": "CaI4fMjRUDSg",
        "colab_type": "code",
        "colab": {
          "base_uri": "https://localhost:8080/",
          "height": 35
        },
        "outputId": "84a32927-0b2d-4514-c576-90b0a2cf4bc6"
      },
      "source": [
        "str[:4]"
      ],
      "execution_count": 18,
      "outputs": [
        {
          "output_type": "execute_result",
          "data": {
            "application/vnd.google.colaboratory.intrinsic": {
              "type": "string"
            },
            "text/plain": [
              "'This'"
            ]
          },
          "metadata": {
            "tags": []
          },
          "execution_count": 18
        }
      ]
    },
    {
      "cell_type": "markdown",
      "metadata": {
        "id": "eYs-Z75SUhnN",
        "colab_type": "text"
      },
      "source": [
        "String **contactenation** can be done using the `+` operator:"
      ]
    },
    {
      "cell_type": "code",
      "metadata": {
        "id": "0d23owQ_UnwD",
        "colab_type": "code",
        "colab": {
          "base_uri": "https://localhost:8080/",
          "height": 34
        },
        "outputId": "cda03af2-dc76-4901-be6f-b095369007e6"
      },
      "source": [
        "str1 = \"One of the most used languages for data science is: \"\n",
        "str2 = \"Python\"\n",
        "print(str1+str2)"
      ],
      "execution_count": 20,
      "outputs": [
        {
          "output_type": "stream",
          "text": [
            "One of the most used languages for data science is: Python\n"
          ],
          "name": "stdout"
        }
      ]
    },
    {
      "cell_type": "markdown",
      "metadata": {
        "id": "fl0ywVDvUwSt",
        "colab_type": "text"
      },
      "source": [
        "The **repetition** operator can be used to construct a new string repeating the given one n times:\n"
      ]
    },
    {
      "cell_type": "code",
      "metadata": {
        "id": "ohuD_ZvEU5Iu",
        "colab_type": "code",
        "colab": {
          "base_uri": "https://localhost:8080/",
          "height": 35
        },
        "outputId": "03b50e38-116a-43d1-f3b5-c2b03dfe05ee"
      },
      "source": [
        "str = \"**NICE\"\n",
        "str*3+\"**\""
      ],
      "execution_count": 28,
      "outputs": [
        {
          "output_type": "execute_result",
          "data": {
            "application/vnd.google.colaboratory.intrinsic": {
              "type": "string"
            },
            "text/plain": [
              "'**NICE**NICE**NICE**'"
            ]
          },
          "metadata": {
            "tags": []
          },
          "execution_count": 28
        }
      ]
    },
    {
      "cell_type": "markdown",
      "metadata": {
        "id": "zDLoQUO6Vr2D",
        "colab_type": "text"
      },
      "source": [
        "The **menbership** operator can test if a string is part of other string:"
      ]
    },
    {
      "cell_type": "code",
      "metadata": {
        "id": "XwGV1e5PV0Vw",
        "colab_type": "code",
        "colab": {
          "base_uri": "https://localhost:8080/",
          "height": 34
        },
        "outputId": "ffc43632-5bbe-4cce-960e-f065ed75ae19"
      },
      "source": [
        "str = \"I want a apple pie for disert today\"\n",
        "\"apple\" in str"
      ],
      "execution_count": 29,
      "outputs": [
        {
          "output_type": "execute_result",
          "data": {
            "text/plain": [
              "True"
            ]
          },
          "metadata": {
            "tags": []
          },
          "execution_count": 29
        }
      ]
    },
    {
      "cell_type": "code",
      "metadata": {
        "id": "rFjj0WUSV_dJ",
        "colab_type": "code",
        "colab": {
          "base_uri": "https://localhost:8080/",
          "height": 34
        },
        "outputId": "318aaeb8-55d6-4fe9-ef60-53c09d5da8be"
      },
      "source": [
        "\"pie disert\" in str"
      ],
      "execution_count": 32,
      "outputs": [
        {
          "output_type": "execute_result",
          "data": {
            "text/plain": [
              "False"
            ]
          },
          "metadata": {
            "tags": []
          },
          "execution_count": 32
        }
      ]
    },
    {
      "cell_type": "code",
      "metadata": {
        "id": "bQkQikRvWDwp",
        "colab_type": "code",
        "colab": {
          "base_uri": "https://localhost:8080/",
          "height": 34
        },
        "outputId": "5a9b3955-458b-469e-cec9-93e770f2aff8"
      },
      "source": [
        "\"banana\" not in str"
      ],
      "execution_count": 31,
      "outputs": [
        {
          "output_type": "execute_result",
          "data": {
            "text/plain": [
              "True"
            ]
          },
          "metadata": {
            "tags": []
          },
          "execution_count": 31
        }
      ]
    },
    {
      "cell_type": "markdown",
      "metadata": {
        "id": "fO6-bHXCWT1N",
        "colab_type": "text"
      },
      "source": [
        "The `for` statement can be used to iterarate through the characters of the string:"
      ]
    },
    {
      "cell_type": "code",
      "metadata": {
        "id": "lmN8udeOWonq",
        "colab_type": "code",
        "colab": {
          "base_uri": "https://localhost:8080/",
          "height": 238
        },
        "outputId": "5c03cf26-3c35-4b8d-f986-30ddcf75c4a3"
      },
      "source": [
        "str = \"I am a string\"\n",
        "\n",
        "for var in str: print(var)"
      ],
      "execution_count": 34,
      "outputs": [
        {
          "output_type": "stream",
          "text": [
            "I\n",
            " \n",
            "a\n",
            "m\n",
            " \n",
            "a\n",
            " \n",
            "s\n",
            "t\n",
            "r\n",
            "i\n",
            "n\n",
            "g\n"
          ],
          "name": "stdout"
        }
      ]
    },
    {
      "cell_type": "markdown",
      "metadata": {
        "id": "21zGF661XoYh",
        "colab_type": "text"
      },
      "source": [
        "One can **escape characters** using the backslach `\\` operator"
      ]
    },
    {
      "cell_type": "code",
      "metadata": {
        "id": "mWVS0ye9X14R",
        "colab_type": "code",
        "colab": {
          "base_uri": "https://localhost:8080/",
          "height": 35
        },
        "outputId": "2335f872-53b5-47d6-fe77-f3ee692a7d9f"
      },
      "source": [
        "str=\"This is a \\\"python\\\" string\"\n",
        "str"
      ],
      "execution_count": 36,
      "outputs": [
        {
          "output_type": "execute_result",
          "data": {
            "application/vnd.google.colaboratory.intrinsic": {
              "type": "string"
            },
            "text/plain": [
              "'This is a \"python\" string'"
            ]
          },
          "metadata": {
            "tags": []
          },
          "execution_count": 36
        }
      ]
    },
    {
      "cell_type": "code",
      "metadata": {
        "id": "CVIaMjOVYDbE",
        "colab_type": "code",
        "colab": {
          "base_uri": "https://localhost:8080/",
          "height": 35
        },
        "outputId": "02422b70-9e2a-45dc-8a40-43e73605ae13"
      },
      "source": [
        "str=\"Another string to escaping\"\n",
        "str"
      ],
      "execution_count": 41,
      "outputs": [
        {
          "output_type": "execute_result",
          "data": {
            "application/vnd.google.colaboratory.intrinsic": {
              "type": "string"
            },
            "text/plain": [
              "'Another string to escaping'"
            ]
          },
          "metadata": {
            "tags": []
          },
          "execution_count": 41
        }
      ]
    },
    {
      "cell_type": "markdown",
      "metadata": {
        "id": "HnyqvlLvZAiy",
        "colab_type": "text"
      },
      "source": [
        "[Other escape codes](https://www.w3schools.com/python/gloss_python_escape_characters.asp)"
      ]
    },
    {
      "cell_type": "markdown",
      "metadata": {
        "id": "OeASkXECO-jJ",
        "colab_type": "text"
      },
      "source": [
        "###Bytes\n",
        "\n"
      ]
    },
    {
      "cell_type": "markdown",
      "metadata": {
        "id": "cF0iIZMdtk0p",
        "colab_type": "text"
      },
      "source": [
        "## Operators\n",
        "\n",
        "The Python operators list is shown below. There is a correspondent function that cam be used in place of the operator. \n",
        "\n",
        "![Python Operators](https://raw.githubusercontent.com/mbellezi/python-and-neural-networks-intro/master/images/python-operators.png) \n",
        "[From Python documentation](https://docs.python.org/3.4/library/operator.html)"
      ]
    },
    {
      "cell_type": "markdown",
      "metadata": {
        "id": "NwQS1V2ttw6_",
        "colab_type": "text"
      },
      "source": [
        "Examples:\n",
        "\n"
      ]
    }
  ]
}