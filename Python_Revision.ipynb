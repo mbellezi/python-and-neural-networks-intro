{
  "nbformat": 4,
  "nbformat_minor": 0,
  "metadata": {
    "colab": {
      "name": "Python Revision.ipynb",
      "provenance": [],
      "collapsed_sections": [],
      "toc_visible": true,
      "authorship_tag": "ABX9TyMC2LknRNlxwaPHWdGS1eDp",
      "include_colab_link": true
    },
    "kernelspec": {
      "name": "python3",
      "display_name": "Python 3"
    }
  },
  "cells": [
    {
      "cell_type": "markdown",
      "metadata": {
        "id": "view-in-github",
        "colab_type": "text"
      },
      "source": [
        "<a href=\"https://colab.research.google.com/github/mbellezi/python-and-neural-networks-intro/blob/master/Python_Revision.ipynb\" target=\"_parent\"><img src=\"https://colab.research.google.com/assets/colab-badge.svg\" alt=\"Open In Colab\"/></a>"
      ]
    },
    {
      "cell_type": "markdown",
      "metadata": {
        "id": "uTnRVXdi9t5P",
        "colab_type": "text"
      },
      "source": [
        "![Python logo](https://pluralsight.imgix.net/paths/python-7be70baaac.png)\n",
        "#Python small revision for programmers\n",
        "\n",
        "[Official Python Language Reference](https://docs.python.org/3.7/)\n",
        "\n",
        "[Google Python Style Guide](https://google.github.io/styleguide/pyguide.html)\n",
        "\n"
      ]
    },
    {
      "cell_type": "markdown",
      "metadata": {
        "id": "w82cQVEM7CVf",
        "colab_type": "text"
      },
      "source": [
        "# Main Characteristics\n",
        "\n",
        "* Not explicit declaration of types\n",
        "* Interpreted (with JIT compiler)\n",
        "* Functional and OOP Oriented\n",
        "* Namespaces and Modules\n",
        "* Indentation used to separete code blocks\n",
        "\n"
      ]
    },
    {
      "cell_type": "markdown",
      "metadata": {
        "id": "pF0uwBG995-j",
        "colab_type": "text"
      },
      "source": [
        "# Reserved Keywords\n",
        "\n",
        "This are the reserved Python keywords"
      ]
    },
    {
      "cell_type": "code",
      "metadata": {
        "id": "RKy9xKvk6pBW",
        "colab_type": "code",
        "colab": {
          "base_uri": "https://localhost:8080/",
          "height": 238
        },
        "outputId": "c73dc66a-56b4-4392-8e1d-2a26b4c281c1"
      },
      "source": [
        "help('keywords')"
      ],
      "execution_count": null,
      "outputs": [
        {
          "output_type": "stream",
          "text": [
            "\n",
            "Here is a list of the Python keywords.  Enter any keyword to get more help.\n",
            "\n",
            "False               def                 if                  raise\n",
            "None                del                 import              return\n",
            "True                elif                in                  try\n",
            "and                 else                is                  while\n",
            "as                  except              lambda              with\n",
            "assert              finally             nonlocal            yield\n",
            "break               for                 not                 \n",
            "class               from                or                  \n",
            "continue            global              pass                \n",
            "\n"
          ],
          "name": "stdout"
        }
      ]
    },
    {
      "cell_type": "markdown",
      "metadata": {
        "id": "ko3fbwf9AoKQ",
        "colab_type": "text"
      },
      "source": [
        "# Statements and Variables"
      ]
    },
    {
      "cell_type": "markdown",
      "metadata": {
        "id": "xDhs8Ksd-8LM",
        "colab_type": "text"
      },
      "source": [
        "## Variable names\n",
        "\n",
        "Python variable names can be constructed using a combination of letters (lower and uppercase), digits and underscore (_), and must not begin with a digit.\n",
        "\n",
        "**Valid Names:**\n",
        "\n",
        "```\n",
        "Variable1 \n",
        "variable_Spacial\n",
        "v0_b1_\n",
        "```\n",
        "**Invalid Names:**\n",
        "\n",
        "```\n",
        "1Variable\n",
        "0_variable\n",
        "```\n",
        "\n"
      ]
    },
    {
      "cell_type": "markdown",
      "metadata": {
        "id": "a3eXNBmGFxE_",
        "colab_type": "text"
      },
      "source": [
        "## Simple Statements\n",
        "\n",
        "Are logical instructions that pyrhon can execute\n"
      ]
    },
    {
      "cell_type": "markdown",
      "metadata": {
        "id": "GjMVYUnuHr4W",
        "colab_type": "text"
      },
      "source": [
        "### Expressions"
      ]
    },
    {
      "cell_type": "code",
      "metadata": {
        "id": "iuURFLKZGObF",
        "colab_type": "code",
        "colab": {
          "base_uri": "https://localhost:8080/",
          "height": 34
        },
        "outputId": "53f26f43-ae82-4b35-965c-17d4342376f3"
      },
      "source": [
        "1 + 2"
      ],
      "execution_count": null,
      "outputs": [
        {
          "output_type": "execute_result",
          "data": {
            "text/plain": [
              "3"
            ]
          },
          "metadata": {
            "tags": []
          },
          "execution_count": 6
        }
      ]
    },
    {
      "cell_type": "code",
      "metadata": {
        "id": "KMESqsgyGatJ",
        "colab_type": "code",
        "colab": {
          "base_uri": "https://localhost:8080/",
          "height": 34
        },
        "outputId": "bc944d93-c707-4a09-9622-093d55f373fd"
      },
      "source": [
        "(1 + 2) * 5"
      ],
      "execution_count": null,
      "outputs": [
        {
          "output_type": "execute_result",
          "data": {
            "text/plain": [
              "15"
            ]
          },
          "metadata": {
            "tags": []
          },
          "execution_count": 7
        }
      ]
    },
    {
      "cell_type": "code",
      "metadata": {
        "id": "C4RHjGpqGfiU",
        "colab_type": "code",
        "colab": {
          "base_uri": "https://localhost:8080/",
          "height": 34
        },
        "outputId": "534f766f-7630-4a09-e628-2d496c5ce998"
      },
      "source": [
        "2**8"
      ],
      "execution_count": null,
      "outputs": [
        {
          "output_type": "execute_result",
          "data": {
            "text/plain": [
              "256"
            ]
          },
          "metadata": {
            "tags": []
          },
          "execution_count": 8
        }
      ]
    },
    {
      "cell_type": "code",
      "metadata": {
        "id": "RWUdWN7fHaSs",
        "colab_type": "code",
        "colab": {
          "base_uri": "https://localhost:8080/",
          "height": 34
        },
        "outputId": "e37537a8-56f9-4dd4-bc83-aa4245213d01"
      },
      "source": [
        "eval(\"2+5\")"
      ],
      "execution_count": null,
      "outputs": [
        {
          "output_type": "execute_result",
          "data": {
            "text/plain": [
              "7"
            ]
          },
          "metadata": {
            "tags": []
          },
          "execution_count": 12
        }
      ]
    },
    {
      "cell_type": "markdown",
      "metadata": {
        "id": "LF4M8tlaGvEd",
        "colab_type": "text"
      },
      "source": [
        "### Variable assignment\n"
      ]
    },
    {
      "cell_type": "code",
      "metadata": {
        "id": "AuatGRM3HwSL",
        "colab_type": "code",
        "colab": {
          "base_uri": "https://localhost:8080/",
          "height": 34
        },
        "outputId": "df203e0d-e595-4953-edde-020dc61d7016"
      },
      "source": [
        "variable1 = 10\n",
        "variable2 = variable1\n",
        "\n",
        "print(variable1, variable2)"
      ],
      "execution_count": null,
      "outputs": [
        {
          "output_type": "stream",
          "text": [
            "10 10\n"
          ],
          "name": "stdout"
        }
      ]
    },
    {
      "cell_type": "markdown",
      "metadata": {
        "id": "RiTXY9KLIQoN",
        "colab_type": "text"
      },
      "source": [
        "### Multi Line Statement\n",
        "\n",
        "Use the inverted slash (\\\\) to continue a statement in other line "
      ]
    },
    {
      "cell_type": "code",
      "metadata": {
        "id": "Y91yFBOnITvk",
        "colab_type": "code",
        "colab": {
          "base_uri": "https://localhost:8080/",
          "height": 35
        },
        "outputId": "34373074-1f4b-4a73-8698-fa8f3c0738e9"
      },
      "source": [
        "(10 + 15) \\\n",
        "* 4 \\\n",
        "/5"
      ],
      "execution_count": null,
      "outputs": [
        {
          "output_type": "execute_result",
          "data": {
            "text/plain": [
              "20.0"
            ]
          },
          "metadata": {
            "tags": []
          },
          "execution_count": 1
        }
      ]
    },
    {
      "cell_type": "markdown",
      "metadata": {
        "id": "Pm_Zck-VJqec",
        "colab_type": "text"
      },
      "source": [
        "## Data Types\n",
        "\n",
        "Python has a number of native data types:\n",
        "\n",
        "* Numbers\n",
        "* Strings\n",
        "* Bytes\n",
        "* Booleans\n",
        "* Lists\n",
        "* Tuples\n",
        "* Sets\n",
        "* Dictionaries"
      ]
    },
    {
      "cell_type": "markdown",
      "metadata": {
        "id": "ldrhUUeuXXnH",
        "colab_type": "text"
      },
      "source": [
        "### Number\n",
        "\n",
        "The Python numerical values  can be classified as `int`, `float` and `complex`. \n",
        "\n",
        "Complex numbers can be represented adding a `j` or a `J` to the end of the number as the imaginary part or use the `complex` function.\n",
        "\n",
        "Examples:\n"
      ]
    },
    {
      "cell_type": "code",
      "metadata": {
        "id": "7jmijukFYaPv",
        "colab_type": "code",
        "colab": {
          "base_uri": "https://localhost:8080/",
          "height": 119
        },
        "outputId": "1b43a8be-2c0e-4b43-b60a-3d55ddc73378"
      },
      "source": [
        "i = 4\n",
        "print(f\"The type of the n variable is {type(i)} and it's value: {i}\")\n",
        "\n",
        "f = 4.5\n",
        "print(f\"The type of the f variable is {type(f)} and it's value: {f}\")\n",
        "\n",
        "a = i*f\n",
        "print(f\"The type of the a variable is {type(a)} and it's value: {a}\")\n",
        "\n",
        "c = 4+5j\n",
        "print(f\"The type of the c variable is {type(c)} and it's value: {c}\")\n",
        "\n",
        "d = complex(6,15)\n",
        "print(f\"The type of the d variable is {type(d)} and it's value: {d}\")\n",
        "\n",
        "e = c+d\n",
        "print(f\"The type of the e variable is {type(e)} and it's value: {e}\")\n"
      ],
      "execution_count": null,
      "outputs": [
        {
          "output_type": "stream",
          "text": [
            "The type of the n variable is <class 'int'> and it's value: 4\n",
            "The type of the f variable is <class 'float'> and it's value: 4.5\n",
            "The type of the a variable is <class 'float'> and it's value: 18.0\n",
            "The type of the c variable is <class 'complex'> and it's value: (4+5j)\n",
            "The type of the d variable is <class 'complex'> and it's value: (6+15j)\n",
            "The type of the e variable is <class 'complex'> and it's value: (10+20j)\n"
          ],
          "name": "stdout"
        }
      ]
    },
    {
      "cell_type": "markdown",
      "metadata": {
        "id": "L0YCD4wQaDC4",
        "colab_type": "text"
      },
      "source": [
        "Some interesting facts:\n",
        "\n",
        "*   **Integers** do not have a size limit in Pyhton and are only limited by memory\n",
        "*   **Floats** are double 64-bit double precision values and.\n",
        "\n",
        "\n"
      ]
    },
    {
      "cell_type": "markdown",
      "metadata": {
        "id": "AQJyB-dinM1V",
        "colab_type": "text"
      },
      "source": [
        "#### Useful functions\n",
        "\n",
        "To use some math functions one must first import the math library\n",
        "\n",
        "```\n",
        "import math\n",
        "```\n"
      ]
    },
    {
      "cell_type": "markdown",
      "metadata": {
        "id": "gyYdvJrTpQqt",
        "colab_type": "text"
      },
      "source": [
        ""
      ]
    },
    {
      "cell_type": "markdown",
      "metadata": {
        "id": "qjEOYbOWn2hg",
        "colab_type": "text"
      },
      "source": [
        "Find **minimum** and **maximum** of a list of values"
      ]
    },
    {
      "cell_type": "code",
      "metadata": {
        "id": "0xxEpHRqnejO",
        "colab_type": "code",
        "colab": {
          "base_uri": "https://localhost:8080/",
          "height": 34
        },
        "outputId": "ca90f172-f989-4b53-ede7-90b4ed30e58a"
      },
      "source": [
        "import math\n",
        "\n",
        "min(1.0, 4, 10.5)"
      ],
      "execution_count": null,
      "outputs": [
        {
          "output_type": "execute_result",
          "data": {
            "text/plain": [
              "1.0"
            ]
          },
          "metadata": {
            "tags": []
          },
          "execution_count": 23
        }
      ]
    },
    {
      "cell_type": "code",
      "metadata": {
        "id": "97IpY-i0oayt",
        "colab_type": "code",
        "colab": {
          "base_uri": "https://localhost:8080/",
          "height": 34
        },
        "outputId": "29f5dd88-9b96-4af4-f0ed-625dbf61e7d1"
      },
      "source": [
        "max(1, 10, 30)"
      ],
      "execution_count": null,
      "outputs": [
        {
          "output_type": "execute_result",
          "data": {
            "text/plain": [
              "30"
            ]
          },
          "metadata": {
            "tags": []
          },
          "execution_count": 41
        }
      ]
    },
    {
      "cell_type": "markdown",
      "metadata": {
        "id": "vw3eSYi3oLMy",
        "colab_type": "text"
      },
      "source": [
        "Round values\n"
      ]
    },
    {
      "cell_type": "code",
      "metadata": {
        "id": "vCvqckTJoKEK",
        "colab_type": "code",
        "colab": {
          "base_uri": "https://localhost:8080/",
          "height": 34
        },
        "outputId": "d9a73ec6-b937-4db1-da46-82e381f136c2"
      },
      "source": [
        "# Round to the lower integer\n",
        "math.floor(3.777)"
      ],
      "execution_count": null,
      "outputs": [
        {
          "output_type": "execute_result",
          "data": {
            "text/plain": [
              "3"
            ]
          },
          "metadata": {
            "tags": []
          },
          "execution_count": 52
        }
      ]
    },
    {
      "cell_type": "code",
      "metadata": {
        "id": "P52NIw0Bore0",
        "colab_type": "code",
        "colab": {
          "base_uri": "https://localhost:8080/",
          "height": 34
        },
        "outputId": "79f2acfb-fb79-4e13-da65-75f42c23fdb3"
      },
      "source": [
        "# Round to the upper integer\n",
        "math.ceil(3.777)"
      ],
      "execution_count": null,
      "outputs": [
        {
          "output_type": "execute_result",
          "data": {
            "text/plain": [
              "4"
            ]
          },
          "metadata": {
            "tags": []
          },
          "execution_count": 45
        }
      ]
    },
    {
      "cell_type": "code",
      "metadata": {
        "id": "FcYmb7x2ow-V",
        "colab_type": "code",
        "colab": {
          "base_uri": "https://localhost:8080/",
          "height": 34
        },
        "outputId": "1e6579ed-41da-4c4e-c42a-58c8284af981"
      },
      "source": [
        "# Round to the nearest integer\n",
        "round(3.777)"
      ],
      "execution_count": null,
      "outputs": [
        {
          "output_type": "execute_result",
          "data": {
            "text/plain": [
              "4"
            ]
          },
          "metadata": {
            "tags": []
          },
          "execution_count": 47
        }
      ]
    },
    {
      "cell_type": "code",
      "metadata": {
        "id": "d-6sTi53o_iK",
        "colab_type": "code",
        "colab": {
          "base_uri": "https://localhost:8080/",
          "height": 34
        },
        "outputId": "bc81396b-e27d-4d6a-88aa-963f67eb3c0c"
      },
      "source": [
        "round(3.5)"
      ],
      "execution_count": null,
      "outputs": [
        {
          "output_type": "execute_result",
          "data": {
            "text/plain": [
              "4"
            ]
          },
          "metadata": {
            "tags": []
          },
          "execution_count": 48
        }
      ]
    },
    {
      "cell_type": "code",
      "metadata": {
        "id": "rv25-a_qpDKv",
        "colab_type": "code",
        "colab": {
          "base_uri": "https://localhost:8080/",
          "height": 34
        },
        "outputId": "1258e6de-6c9f-4a3c-c233-7f280af6c6ff"
      },
      "source": [
        "round(3.499999)"
      ],
      "execution_count": null,
      "outputs": [
        {
          "output_type": "execute_result",
          "data": {
            "text/plain": [
              "3"
            ]
          },
          "metadata": {
            "tags": []
          },
          "execution_count": 50
        }
      ]
    },
    {
      "cell_type": "markdown",
      "metadata": {
        "id": "_0bPYlZKZyOY",
        "colab_type": "text"
      },
      "source": [
        "### String\n",
        "\n",
        "A Python String can be represented enclosed by both single `'` or double `\"` quotes.\n",
        "\n",
        "Examples:"
      ]
    },
    {
      "cell_type": "code",
      "metadata": {
        "id": "Dah4CoiFbzH3",
        "colab_type": "code",
        "colab": {
          "base_uri": "https://localhost:8080/",
          "height": 51
        },
        "outputId": "e1c12dbd-44a8-4163-fcf3-b6e31a638589"
      },
      "source": [
        "str1 = 'I\\'n a String using single quotes'\n",
        "print(str1)\n",
        "\n",
        "str2 = \"I'm a String using double quotes\"\n",
        "print(str2)"
      ],
      "execution_count": null,
      "outputs": [
        {
          "output_type": "stream",
          "text": [
            "I'n a String using single quotes\n",
            "I'm a String using double quotes\n"
          ],
          "name": "stdout"
        }
      ]
    },
    {
      "cell_type": "markdown",
      "metadata": {
        "id": "Tvy0vgOIcwkr",
        "colab_type": "text"
      },
      "source": [
        "Python can use multi line strings using the triple double quotes:\n",
        "\n"
      ]
    },
    {
      "cell_type": "markdown",
      "metadata": {
        "id": "uWSKxq05N5E3",
        "colab_type": "text"
      },
      "source": [
        ""
      ]
    },
    {
      "cell_type": "code",
      "metadata": {
        "id": "wKukBE-_cvqt",
        "colab_type": "code",
        "colab": {
          "base_uri": "https://localhost:8080/",
          "height": 51
        },
        "outputId": "35fb7cd1-3d46-41a2-ce43-a9e5f5730823"
      },
      "source": [
        "str = \"\"\"I'm a multiline string,\n",
        "and I can fit in more than one line.\"\"\"\n",
        "print(str)"
      ],
      "execution_count": null,
      "outputs": [
        {
          "output_type": "stream",
          "text": [
            "I'm a multiline string,\n",
            "and I can fit in more than one line.\n"
          ],
          "name": "stdout"
        }
      ]
    },
    {
      "cell_type": "markdown",
      "metadata": {
        "id": "6O3JQJm4efxn",
        "colab_type": "text"
      },
      "source": [
        "To construct formatted strings a great option is use the `f` prefixed string. They ar constructed places an `f` before the first quotation mark. Inside the string one case inser any expression surround it with braces `{}`. C's `sprintf` like formatting can be used using the method `format` of the class `string`.\n",
        "\n",
        "[Format Cheat Sheet](https://craigmbooth.com/images/blog/pythonstring/PythonNumberFormatting.pdf)"
      ]
    },
    {
      "cell_type": "code",
      "metadata": {
        "id": "qk-OFuC4fnGB",
        "colab_type": "code",
        "colab": {
          "base_uri": "https://localhost:8080/",
          "height": 51
        },
        "outputId": "9ce6836f-f83f-445f-d512-0ca7f9e7b441"
      },
      "source": [
        "str1 = f\"The area of a circle o radius 4 is {math.pi*4**2}\"\n",
        "print(str1)\n",
        "\n",
        "str2 = \"The area of a circle o radius 4 is {:.2f}\".format(math.pi*4**2)\n",
        "print(str2)"
      ],
      "execution_count": null,
      "outputs": [
        {
          "output_type": "stream",
          "text": [
            "The area of a circle o radius 4 is 50.26548245743669\n",
            "The area of a circle o radius 4 is 50.27\n"
          ],
          "name": "stdout"
        }
      ]
    },
    {
      "cell_type": "markdown",
      "metadata": {
        "id": "cDqMFGnHpmrI",
        "colab_type": "text"
      },
      "source": [
        "#### Useful functions\n",
        "\n",
        "The `string` class has some useful manipulation funcions"
      ]
    },
    {
      "cell_type": "markdown",
      "metadata": {
        "id": "hxwtMoUSqs2W",
        "colab_type": "text"
      },
      "source": [
        "**Lower** and **Upper** case a string"
      ]
    },
    {
      "cell_type": "code",
      "metadata": {
        "id": "xJ-dO8q3qyGj",
        "colab_type": "code",
        "colab": {
          "base_uri": "https://localhost:8080/",
          "height": 35
        },
        "outputId": "6533473a-b6ec-44a1-d6df-348a474862ac"
      },
      "source": [
        "\"I want to be upper cased\".upper()"
      ],
      "execution_count": null,
      "outputs": [
        {
          "output_type": "execute_result",
          "data": {
            "application/vnd.google.colaboratory.intrinsic": {
              "type": "string"
            },
            "text/plain": [
              "'I WANT TO BE UPPER CASED'"
            ]
          },
          "metadata": {
            "tags": []
          },
          "execution_count": 54
        }
      ]
    },
    {
      "cell_type": "code",
      "metadata": {
        "id": "NYYBdN5CrA1g",
        "colab_type": "code",
        "colab": {
          "base_uri": "https://localhost:8080/",
          "height": 35
        },
        "outputId": "144f9051-5abe-4ccd-bd2a-d2becfe98bbd"
      },
      "source": [
        "\"I want to be lower cased\".lower()"
      ],
      "execution_count": null,
      "outputs": [
        {
          "output_type": "execute_result",
          "data": {
            "application/vnd.google.colaboratory.intrinsic": {
              "type": "string"
            },
            "text/plain": [
              "'i want to be lower cased'"
            ]
          },
          "metadata": {
            "tags": []
          },
          "execution_count": 55
        }
      ]
    },
    {
      "cell_type": "markdown",
      "metadata": {
        "id": "s0KwxfReRRhg",
        "colab_type": "text"
      },
      "source": [
        "#### String operators\n",
        "\n",
        "A substring can be constructed using the slice `[]`  and range slice `[:]` operators"
      ]
    },
    {
      "cell_type": "code",
      "metadata": {
        "id": "nqr1Hk8VR5mK",
        "colab_type": "code",
        "colab": {}
      },
      "source": [
        "#  T    h   i   s       i   s     a     s   t   r   i   n  g \n",
        "#------------------------------------------------------------\n",
        "#  0    1   2   3   4   5   6  7  8  9  10  11  12  13  14 15\n",
        "# -16 -15 -14 -13 -12 -11 -10 -9 -8 -7 -6  -5  -4  -3  -2  -1\n",
        "\n",
        "str = \"This is a string\""
      ],
      "execution_count": null,
      "outputs": []
    },
    {
      "cell_type": "code",
      "metadata": {
        "id": "PYwquRvdTDtr",
        "colab_type": "code",
        "colab": {
          "base_uri": "https://localhost:8080/",
          "height": 35
        },
        "outputId": "0611e4c0-5fac-4b22-952b-8e2dd8c662ce"
      },
      "source": [
        "str[0]"
      ],
      "execution_count": null,
      "outputs": [
        {
          "output_type": "execute_result",
          "data": {
            "application/vnd.google.colaboratory.intrinsic": {
              "type": "string"
            },
            "text/plain": [
              "'T'"
            ]
          },
          "metadata": {
            "tags": []
          },
          "execution_count": 3
        }
      ]
    },
    {
      "cell_type": "code",
      "metadata": {
        "id": "Q0B_H_DvTHnE",
        "colab_type": "code",
        "colab": {
          "base_uri": "https://localhost:8080/",
          "height": 35
        },
        "outputId": "e5153b2d-f484-4ea8-de55-196dadfb8fae"
      },
      "source": [
        "str[-16]"
      ],
      "execution_count": null,
      "outputs": [
        {
          "output_type": "execute_result",
          "data": {
            "application/vnd.google.colaboratory.intrinsic": {
              "type": "string"
            },
            "text/plain": [
              "'T'"
            ]
          },
          "metadata": {
            "tags": []
          },
          "execution_count": 6
        }
      ]
    },
    {
      "cell_type": "code",
      "metadata": {
        "id": "XEYU2orSTbPa",
        "colab_type": "code",
        "colab": {
          "base_uri": "https://localhost:8080/",
          "height": 35
        },
        "outputId": "5137fc33-18f2-4850-abdb-d63b0afe28ff"
      },
      "source": [
        "str[15]"
      ],
      "execution_count": null,
      "outputs": [
        {
          "output_type": "execute_result",
          "data": {
            "application/vnd.google.colaboratory.intrinsic": {
              "type": "string"
            },
            "text/plain": [
              "'g'"
            ]
          },
          "metadata": {
            "tags": []
          },
          "execution_count": 8
        }
      ]
    },
    {
      "cell_type": "code",
      "metadata": {
        "id": "ykG0z7GlTgOc",
        "colab_type": "code",
        "colab": {
          "base_uri": "https://localhost:8080/",
          "height": 35
        },
        "outputId": "a0997bf2-a41f-4665-f643-03e30b711ed9"
      },
      "source": [
        "str[0:4]"
      ],
      "execution_count": null,
      "outputs": [
        {
          "output_type": "execute_result",
          "data": {
            "application/vnd.google.colaboratory.intrinsic": {
              "type": "string"
            },
            "text/plain": [
              "'This'"
            ]
          },
          "metadata": {
            "tags": []
          },
          "execution_count": 12
        }
      ]
    },
    {
      "cell_type": "code",
      "metadata": {
        "id": "eRskLoSlTsUQ",
        "colab_type": "code",
        "colab": {
          "base_uri": "https://localhost:8080/",
          "height": 35
        },
        "outputId": "ae5ac791-4bd2-4cdf-82fb-fe370a37c93e"
      },
      "source": [
        "str[-13:-16]"
      ],
      "execution_count": null,
      "outputs": [
        {
          "output_type": "execute_result",
          "data": {
            "application/vnd.google.colaboratory.intrinsic": {
              "type": "string"
            },
            "text/plain": [
              "''"
            ]
          },
          "metadata": {
            "tags": []
          },
          "execution_count": 16
        }
      ]
    },
    {
      "cell_type": "code",
      "metadata": {
        "id": "m7kqMkehT1w-",
        "colab_type": "code",
        "colab": {
          "base_uri": "https://localhost:8080/",
          "height": 35
        },
        "outputId": "22e59361-a04b-44bf-e551-5e70bab36f82"
      },
      "source": [
        "str[-16:4]"
      ],
      "execution_count": null,
      "outputs": [
        {
          "output_type": "execute_result",
          "data": {
            "application/vnd.google.colaboratory.intrinsic": {
              "type": "string"
            },
            "text/plain": [
              "'This'"
            ]
          },
          "metadata": {
            "tags": []
          },
          "execution_count": 17
        }
      ]
    },
    {
      "cell_type": "code",
      "metadata": {
        "id": "CaI4fMjRUDSg",
        "colab_type": "code",
        "colab": {
          "base_uri": "https://localhost:8080/",
          "height": 35
        },
        "outputId": "84a32927-0b2d-4514-c576-90b0a2cf4bc6"
      },
      "source": [
        "str[:4]"
      ],
      "execution_count": null,
      "outputs": [
        {
          "output_type": "execute_result",
          "data": {
            "application/vnd.google.colaboratory.intrinsic": {
              "type": "string"
            },
            "text/plain": [
              "'This'"
            ]
          },
          "metadata": {
            "tags": []
          },
          "execution_count": 18
        }
      ]
    },
    {
      "cell_type": "markdown",
      "metadata": {
        "id": "eYs-Z75SUhnN",
        "colab_type": "text"
      },
      "source": [
        "String **contactenation** can be done using the `+` operator:"
      ]
    },
    {
      "cell_type": "code",
      "metadata": {
        "id": "0d23owQ_UnwD",
        "colab_type": "code",
        "colab": {
          "base_uri": "https://localhost:8080/",
          "height": 34
        },
        "outputId": "cda03af2-dc76-4901-be6f-b095369007e6"
      },
      "source": [
        "str1 = \"One of the most used languages for data science is: \"\n",
        "str2 = \"Python\"\n",
        "print(str1+str2)"
      ],
      "execution_count": null,
      "outputs": [
        {
          "output_type": "stream",
          "text": [
            "One of the most used languages for data science is: Python\n"
          ],
          "name": "stdout"
        }
      ]
    },
    {
      "cell_type": "markdown",
      "metadata": {
        "id": "fl0ywVDvUwSt",
        "colab_type": "text"
      },
      "source": [
        "The **repetition** operator can be used to construct a new string repeating the given one n times:\n"
      ]
    },
    {
      "cell_type": "code",
      "metadata": {
        "id": "ohuD_ZvEU5Iu",
        "colab_type": "code",
        "colab": {
          "base_uri": "https://localhost:8080/",
          "height": 35
        },
        "outputId": "03b50e38-116a-43d1-f3b5-c2b03dfe05ee"
      },
      "source": [
        "str = \"**NICE\"\n",
        "str*3+\"**\""
      ],
      "execution_count": null,
      "outputs": [
        {
          "output_type": "execute_result",
          "data": {
            "application/vnd.google.colaboratory.intrinsic": {
              "type": "string"
            },
            "text/plain": [
              "'**NICE**NICE**NICE**'"
            ]
          },
          "metadata": {
            "tags": []
          },
          "execution_count": 28
        }
      ]
    },
    {
      "cell_type": "markdown",
      "metadata": {
        "id": "zDLoQUO6Vr2D",
        "colab_type": "text"
      },
      "source": [
        "The **menbership** operator can test if a string is part of other string:"
      ]
    },
    {
      "cell_type": "code",
      "metadata": {
        "id": "XwGV1e5PV0Vw",
        "colab_type": "code",
        "colab": {
          "base_uri": "https://localhost:8080/",
          "height": 34
        },
        "outputId": "ffc43632-5bbe-4cce-960e-f065ed75ae19"
      },
      "source": [
        "str = \"I want a apple pie for disert today\"\n",
        "\"apple\" in str"
      ],
      "execution_count": null,
      "outputs": [
        {
          "output_type": "execute_result",
          "data": {
            "text/plain": [
              "True"
            ]
          },
          "metadata": {
            "tags": []
          },
          "execution_count": 29
        }
      ]
    },
    {
      "cell_type": "code",
      "metadata": {
        "id": "rFjj0WUSV_dJ",
        "colab_type": "code",
        "colab": {
          "base_uri": "https://localhost:8080/",
          "height": 34
        },
        "outputId": "318aaeb8-55d6-4fe9-ef60-53c09d5da8be"
      },
      "source": [
        "\"pie disert\" in str"
      ],
      "execution_count": null,
      "outputs": [
        {
          "output_type": "execute_result",
          "data": {
            "text/plain": [
              "False"
            ]
          },
          "metadata": {
            "tags": []
          },
          "execution_count": 32
        }
      ]
    },
    {
      "cell_type": "code",
      "metadata": {
        "id": "bQkQikRvWDwp",
        "colab_type": "code",
        "colab": {
          "base_uri": "https://localhost:8080/",
          "height": 34
        },
        "outputId": "5a9b3955-458b-469e-cec9-93e770f2aff8"
      },
      "source": [
        "\"banana\" not in str"
      ],
      "execution_count": null,
      "outputs": [
        {
          "output_type": "execute_result",
          "data": {
            "text/plain": [
              "True"
            ]
          },
          "metadata": {
            "tags": []
          },
          "execution_count": 31
        }
      ]
    },
    {
      "cell_type": "markdown",
      "metadata": {
        "id": "fO6-bHXCWT1N",
        "colab_type": "text"
      },
      "source": [
        "The `for` statement can be used to iterarate through the characters of the string:"
      ]
    },
    {
      "cell_type": "code",
      "metadata": {
        "id": "lmN8udeOWonq",
        "colab_type": "code",
        "colab": {
          "base_uri": "https://localhost:8080/",
          "height": 238
        },
        "outputId": "5c03cf26-3c35-4b8d-f986-30ddcf75c4a3"
      },
      "source": [
        "str = \"I am a string\"\n",
        "\n",
        "for var in str: print(var)"
      ],
      "execution_count": null,
      "outputs": [
        {
          "output_type": "stream",
          "text": [
            "I\n",
            " \n",
            "a\n",
            "m\n",
            " \n",
            "a\n",
            " \n",
            "s\n",
            "t\n",
            "r\n",
            "i\n",
            "n\n",
            "g\n"
          ],
          "name": "stdout"
        }
      ]
    },
    {
      "cell_type": "markdown",
      "metadata": {
        "id": "21zGF661XoYh",
        "colab_type": "text"
      },
      "source": [
        "One can **escape characters** using the backslach `\\` operator"
      ]
    },
    {
      "cell_type": "code",
      "metadata": {
        "id": "mWVS0ye9X14R",
        "colab_type": "code",
        "colab": {
          "base_uri": "https://localhost:8080/",
          "height": 35
        },
        "outputId": "2335f872-53b5-47d6-fe77-f3ee692a7d9f"
      },
      "source": [
        "str=\"This is a \\\"python\\\" string\"\n",
        "str"
      ],
      "execution_count": null,
      "outputs": [
        {
          "output_type": "execute_result",
          "data": {
            "application/vnd.google.colaboratory.intrinsic": {
              "type": "string"
            },
            "text/plain": [
              "'This is a \"python\" string'"
            ]
          },
          "metadata": {
            "tags": []
          },
          "execution_count": 36
        }
      ]
    },
    {
      "cell_type": "code",
      "metadata": {
        "id": "CVIaMjOVYDbE",
        "colab_type": "code",
        "colab": {
          "base_uri": "https://localhost:8080/",
          "height": 35
        },
        "outputId": "02422b70-9e2a-45dc-8a40-43e73605ae13"
      },
      "source": [
        "str=\"Another string to escaping\"\n",
        "str"
      ],
      "execution_count": null,
      "outputs": [
        {
          "output_type": "execute_result",
          "data": {
            "application/vnd.google.colaboratory.intrinsic": {
              "type": "string"
            },
            "text/plain": [
              "'Another string to escaping'"
            ]
          },
          "metadata": {
            "tags": []
          },
          "execution_count": 41
        }
      ]
    },
    {
      "cell_type": "markdown",
      "metadata": {
        "id": "HnyqvlLvZAiy",
        "colab_type": "text"
      },
      "source": [
        "[Other escape codes](https://www.w3schools.com/python/gloss_python_escape_characters.asp)"
      ]
    },
    {
      "cell_type": "markdown",
      "metadata": {
        "id": "OeASkXECO-jJ",
        "colab_type": "text"
      },
      "source": [
        "###Boolean\n",
        "\n",
        "The Boolean type represents the two logical values `True` and `False`. These are language constants.\n"
      ]
    },
    {
      "cell_type": "code",
      "metadata": {
        "id": "F3SCoewlUg3V",
        "colab_type": "code",
        "colab": {
          "base_uri": "https://localhost:8080/",
          "height": 34
        },
        "outputId": "24036d69-749a-40ed-8966-60524c50791e"
      },
      "source": [
        "flower = True\n",
        "petals = False\n",
        "\n",
        "if flower == True and petals == True:\n",
        "  print('You have a rose!?')\n",
        "else:\n",
        "  print('You have a Cyathium')\n"
      ],
      "execution_count": null,
      "outputs": [
        {
          "output_type": "stream",
          "text": [
            "You have a Cyathium\n"
          ],
          "name": "stdout"
        }
      ]
    },
    {
      "cell_type": "code",
      "metadata": {
        "id": "5jUeMQlfVWIn",
        "colab_type": "code",
        "colab": {
          "base_uri": "https://localhost:8080/",
          "height": 34
        },
        "outputId": "11875517-9b0a-4c42-fb50-437b3ae95766"
      },
      "source": [
        "not flower"
      ],
      "execution_count": null,
      "outputs": [
        {
          "output_type": "execute_result",
          "data": {
            "text/plain": [
              "False"
            ]
          },
          "metadata": {
            "tags": []
          },
          "execution_count": 10
        }
      ]
    },
    {
      "cell_type": "code",
      "metadata": {
        "id": "KSk3PeEvVzjw",
        "colab_type": "code",
        "colab": {
          "base_uri": "https://localhost:8080/",
          "height": 34
        },
        "outputId": "3e201764-1fcd-4cb5-b316-283a9af45dc3"
      },
      "source": [
        "not 10"
      ],
      "execution_count": null,
      "outputs": [
        {
          "output_type": "execute_result",
          "data": {
            "text/plain": [
              "True"
            ]
          },
          "metadata": {
            "tags": []
          },
          "execution_count": 17
        }
      ]
    },
    {
      "cell_type": "code",
      "metadata": {
        "id": "e_6kecDkV97i",
        "colab_type": "code",
        "colab": {
          "base_uri": "https://localhost:8080/",
          "height": 34
        },
        "outputId": "d7ab6f5e-cd64-475b-f212-820c963879b3"
      },
      "source": [
        "not 0"
      ],
      "execution_count": null,
      "outputs": [
        {
          "output_type": "execute_result",
          "data": {
            "text/plain": [
              "False"
            ]
          },
          "metadata": {
            "tags": []
          },
          "execution_count": 15
        }
      ]
    },
    {
      "cell_type": "code",
      "metadata": {
        "id": "geXICsz8WGBX",
        "colab_type": "code",
        "colab": {
          "base_uri": "https://localhost:8080/",
          "height": 34
        },
        "outputId": "cb0f99ac-6624-43c0-db1e-210b4074b14e"
      },
      "source": [
        "bool(10)"
      ],
      "execution_count": null,
      "outputs": [
        {
          "output_type": "execute_result",
          "data": {
            "text/plain": [
              "True"
            ]
          },
          "metadata": {
            "tags": []
          },
          "execution_count": 18
        }
      ]
    },
    {
      "cell_type": "code",
      "metadata": {
        "id": "4essJPRQV55y",
        "colab_type": "code",
        "colab": {
          "base_uri": "https://localhost:8080/",
          "height": 34
        },
        "outputId": "b4525f58-cac2-444b-e7ae-ea924d9b133d"
      },
      "source": [
        "not not 10"
      ],
      "execution_count": null,
      "outputs": [
        {
          "output_type": "execute_result",
          "data": {
            "text/plain": [
              "True"
            ]
          },
          "metadata": {
            "tags": []
          },
          "execution_count": 14
        }
      ]
    },
    {
      "cell_type": "markdown",
      "metadata": {
        "id": "EPNPkdvaWYAw",
        "colab_type": "text"
      },
      "source": [
        "### List\n",
        "\n",
        "This lists are the most basic multi value storage type in Python. The are similar to the arrays in other languages. Each item is stored in a fixed position given by a numerical index. This first position has the index `0` and the next ones `1`, `2...` and so on."
      ]
    },
    {
      "cell_type": "markdown",
      "metadata": {
        "id": "gh1KQOEWXOJl",
        "colab_type": "text"
      },
      "source": [
        "**Creating** a new list:"
      ]
    },
    {
      "cell_type": "code",
      "metadata": {
        "id": "7HDIkJWdXLHU",
        "colab_type": "code",
        "colab": {
          "base_uri": "https://localhost:8080/",
          "height": 34
        },
        "outputId": "18370566-7c97-49eb-adc8-cbe71654c06b"
      },
      "source": [
        "empty_list = []\n",
        "empty_list"
      ],
      "execution_count": null,
      "outputs": [
        {
          "output_type": "execute_result",
          "data": {
            "text/plain": [
              "[]"
            ]
          },
          "metadata": {
            "tags": []
          },
          "execution_count": 20
        }
      ]
    },
    {
      "cell_type": "code",
      "metadata": {
        "id": "AwqMFeUiXaQZ",
        "colab_type": "code",
        "colab": {
          "base_uri": "https://localhost:8080/",
          "height": 34
        },
        "outputId": "d5e38699-ad70-4ff3-9fe8-f65767236328"
      },
      "source": [
        "simple_list = [ 1,  2, 3.5, -20]\n",
        "simple_list "
      ],
      "execution_count": null,
      "outputs": [
        {
          "output_type": "execute_result",
          "data": {
            "text/plain": [
              "[1, 2, 3.5, -20]"
            ]
          },
          "metadata": {
            "tags": []
          },
          "execution_count": 22
        }
      ]
    },
    {
      "cell_type": "markdown",
      "metadata": {
        "id": "59SO7AKq8eo6",
        "colab_type": "text"
      },
      "source": [
        "**Acessing** a list"
      ]
    },
    {
      "cell_type": "code",
      "metadata": {
        "id": "WEE1JuL-XsoX",
        "colab_type": "code",
        "colab": {}
      },
      "source": [
        "simple_list[0]"
      ],
      "execution_count": null,
      "outputs": []
    },
    {
      "cell_type": "code",
      "metadata": {
        "id": "rGuOFdrOXqf9",
        "colab_type": "code",
        "colab": {
          "base_uri": "https://localhost:8080/",
          "height": 34
        },
        "outputId": "dcbe7bac-2763-4308-bcac-2ada5803526d"
      },
      "source": [
        "simple_list[3]"
      ],
      "execution_count": null,
      "outputs": [
        {
          "output_type": "execute_result",
          "data": {
            "text/plain": [
              "-20"
            ]
          },
          "metadata": {
            "tags": []
          },
          "execution_count": 25
        }
      ]
    },
    {
      "cell_type": "code",
      "metadata": {
        "id": "6IvUSHtrXzGY",
        "colab_type": "code",
        "colab": {
          "base_uri": "https://localhost:8080/",
          "height": 34
        },
        "outputId": "a29a59d5-76d7-487b-9478-4e35076f44f6"
      },
      "source": [
        "simple_list[-1]"
      ],
      "execution_count": null,
      "outputs": [
        {
          "output_type": "execute_result",
          "data": {
            "text/plain": [
              "-20"
            ]
          },
          "metadata": {
            "tags": []
          },
          "execution_count": 26
        }
      ]
    },
    {
      "cell_type": "code",
      "metadata": {
        "id": "b26gOrquX219",
        "colab_type": "code",
        "colab": {
          "base_uri": "https://localhost:8080/",
          "height": 34
        },
        "outputId": "38eadab2-82f2-4eb3-d38d-6214ded7d2f2"
      },
      "source": [
        "simple_list[0:2]   # Be careful, the last index of the range is not included!"
      ],
      "execution_count": null,
      "outputs": [
        {
          "output_type": "execute_result",
          "data": {
            "text/plain": [
              "[1, 2]"
            ]
          },
          "metadata": {
            "tags": []
          },
          "execution_count": 29
        }
      ]
    },
    {
      "cell_type": "code",
      "metadata": {
        "id": "IL53YGmBcnr3",
        "colab_type": "code",
        "colab": {
          "base_uri": "https://localhost:8080/",
          "height": 34
        },
        "outputId": "ef6e24b1-db38-472a-d418-c25578779dce"
      },
      "source": [
        "simple_list[:2] "
      ],
      "execution_count": null,
      "outputs": [
        {
          "output_type": "execute_result",
          "data": {
            "text/plain": [
              "[1, 2]"
            ]
          },
          "metadata": {
            "tags": []
          },
          "execution_count": 56
        }
      ]
    },
    {
      "cell_type": "code",
      "metadata": {
        "id": "vlvPIeOncqeu",
        "colab_type": "code",
        "colab": {
          "base_uri": "https://localhost:8080/",
          "height": 34
        },
        "outputId": "9295fca5-49e7-40d4-8e9e-ec45b985ccf0"
      },
      "source": [
        "simple_list[2:] "
      ],
      "execution_count": null,
      "outputs": [
        {
          "output_type": "execute_result",
          "data": {
            "text/plain": [
              "[3.5, -20]"
            ]
          },
          "metadata": {
            "tags": []
          },
          "execution_count": 57
        }
      ]
    },
    {
      "cell_type": "markdown",
      "metadata": {
        "id": "qF7MztupYKSg",
        "colab_type": "text"
      },
      "source": [
        "Lists **are not restricted to a single type**:\n"
      ]
    },
    {
      "cell_type": "code",
      "metadata": {
        "id": "qaHQTJ7wYUCf",
        "colab_type": "code",
        "colab": {
          "base_uri": "https://localhost:8080/",
          "height": 34
        },
        "outputId": "d23b90f0-0df0-4127-973d-f928f31524c7"
      },
      "source": [
        "hetereogeneous_list = [ 1, \"orange\", True, 4.0, [1, 2, 3]]\n",
        "hetereogeneous_list"
      ],
      "execution_count": null,
      "outputs": [
        {
          "output_type": "execute_result",
          "data": {
            "text/plain": [
              "[1, 'orange', True, 4.0, [1, 2, 3]]"
            ]
          },
          "metadata": {
            "tags": []
          },
          "execution_count": 37
        }
      ]
    },
    {
      "cell_type": "code",
      "metadata": {
        "id": "pWOJQa-3Yii1",
        "colab_type": "code",
        "colab": {
          "base_uri": "https://localhost:8080/",
          "height": 34
        },
        "outputId": "efa0f21b-03dd-4be2-c625-ddd9d9642d1c"
      },
      "source": [
        "hetereogeneous_list[4]"
      ],
      "execution_count": null,
      "outputs": [
        {
          "output_type": "execute_result",
          "data": {
            "text/plain": [
              "[1, 2, 3]"
            ]
          },
          "metadata": {
            "tags": []
          },
          "execution_count": 39
        }
      ]
    },
    {
      "cell_type": "code",
      "metadata": {
        "id": "k3rP7RjCZKa0",
        "colab_type": "code",
        "colab": {
          "base_uri": "https://localhost:8080/",
          "height": 34
        },
        "outputId": "3d87ba02-1a57-49ca-933f-de96e8405eee"
      },
      "source": [
        "hetereogeneous_list[4][1]"
      ],
      "execution_count": null,
      "outputs": [
        {
          "output_type": "execute_result",
          "data": {
            "text/plain": [
              "2"
            ]
          },
          "metadata": {
            "tags": []
          },
          "execution_count": 40
        }
      ]
    },
    {
      "cell_type": "markdown",
      "metadata": {
        "id": "N6qLhclJZcDR",
        "colab_type": "text"
      },
      "source": [
        "Discovering the **size** of a list"
      ]
    },
    {
      "cell_type": "code",
      "metadata": {
        "id": "SfZy4QEBZXSt",
        "colab_type": "code",
        "colab": {
          "base_uri": "https://localhost:8080/",
          "height": 34
        },
        "outputId": "ae16811a-fc12-40cd-e28e-55aadffa7843"
      },
      "source": [
        "len(hetereogeneous_list)"
      ],
      "execution_count": null,
      "outputs": [
        {
          "output_type": "execute_result",
          "data": {
            "text/plain": [
              "5"
            ]
          },
          "metadata": {
            "tags": []
          },
          "execution_count": 42
        }
      ]
    },
    {
      "cell_type": "markdown",
      "metadata": {
        "id": "uE3h-tMA8pWf",
        "colab_type": "text"
      },
      "source": [
        "Creating a list with **repeated** content"
      ]
    },
    {
      "cell_type": "code",
      "metadata": {
        "id": "kdvBnGzLaFE6",
        "colab_type": "code",
        "colab": {
          "base_uri": "https://localhost:8080/",
          "height": 34
        },
        "outputId": "886fbe5f-e0b7-449d-91cc-d687da7fc865"
      },
      "source": [
        "zeros_list = [0]*5\n",
        "zeros_list"
      ],
      "execution_count": null,
      "outputs": [
        {
          "output_type": "execute_result",
          "data": {
            "text/plain": [
              "[0, 0, 0, 0, 0]"
            ]
          },
          "metadata": {
            "tags": []
          },
          "execution_count": 8
        }
      ]
    },
    {
      "cell_type": "markdown",
      "metadata": {
        "id": "iPTDhF5V8vZI",
        "colab_type": "text"
      },
      "source": [
        "**Modifying** a value in a list"
      ]
    },
    {
      "cell_type": "code",
      "metadata": {
        "id": "NXn80ii5aMBh",
        "colab_type": "code",
        "colab": {
          "base_uri": "https://localhost:8080/",
          "height": 34
        },
        "outputId": "5debae3d-6128-4405-9348-1371589e1616"
      },
      "source": [
        "zeros_list[0] = 1\n",
        "zeros_list"
      ],
      "execution_count": null,
      "outputs": [
        {
          "output_type": "execute_result",
          "data": {
            "text/plain": [
              "[1, 0, 0, 0, 0]"
            ]
          },
          "metadata": {
            "tags": []
          },
          "execution_count": 9
        }
      ]
    },
    {
      "cell_type": "markdown",
      "metadata": {
        "id": "JFsGo8h4Y-5i",
        "colab_type": "text"
      },
      "source": [
        "**Adding** elements to the list"
      ]
    },
    {
      "cell_type": "code",
      "metadata": {
        "id": "zC_QnPaiYoQp",
        "colab_type": "code",
        "colab": {
          "base_uri": "https://localhost:8080/",
          "height": 34
        },
        "outputId": "5781eaa1-8562-4d2b-b0fd-959fb20a4ec6"
      },
      "source": [
        "new_list = []\n",
        "#new_list[0] = 1  # does not work\n",
        "new_list.append(0)\n",
        "new_list.append(\"apple\")\n",
        "new_list\n"
      ],
      "execution_count": null,
      "outputs": [
        {
          "output_type": "execute_result",
          "data": {
            "text/plain": [
              "[0, 'apple']"
            ]
          },
          "metadata": {
            "tags": []
          },
          "execution_count": 48
        }
      ]
    },
    {
      "cell_type": "markdown",
      "metadata": {
        "id": "b3sHw6tSanSf",
        "colab_type": "text"
      },
      "source": [
        "Creating lists using **list comprehension**.\n",
        "\n",
        "This is a method of building lists using an expression with iteration and/or filtering. The syntax is the following:\n",
        "\n",
        "`new_list = [expression(varname) for varname in oldList if filter(iter)]`"
      ]
    },
    {
      "cell_type": "code",
      "metadata": {
        "id": "2yHA_S1CbVpU",
        "colab_type": "code",
        "colab": {
          "base_uri": "https://localhost:8080/",
          "height": 34
        },
        "outputId": "f1c6d2f5-f8b0-4845-c236-c8b9a774f95b"
      },
      "source": [
        "new_list = [evennumber for evennumber in [0, 1, 2, 3, 4, 5, 6] if evennumber % 2 == 0]\n",
        "new_list"
      ],
      "execution_count": null,
      "outputs": [
        {
          "output_type": "execute_result",
          "data": {
            "text/plain": [
              "[0, 2, 4, 6]"
            ]
          },
          "metadata": {
            "tags": []
          },
          "execution_count": 51
        }
      ]
    },
    {
      "cell_type": "code",
      "metadata": {
        "id": "W5lbyXrvcCJ5",
        "colab_type": "code",
        "colab": {
          "base_uri": "https://localhost:8080/",
          "height": 34
        },
        "outputId": "f5fb6122-8557-43a4-a5bc-1b822558c4cd"
      },
      "source": [
        "new_list = [evennumber*10 for evennumber in [0, 1, 2, 3, 4, 5, 6] if evennumber % 2 != 0]\n",
        "new_list"
      ],
      "execution_count": null,
      "outputs": [
        {
          "output_type": "execute_result",
          "data": {
            "text/plain": [
              "[10, 30, 50]"
            ]
          },
          "metadata": {
            "tags": []
          },
          "execution_count": 54
        }
      ]
    },
    {
      "cell_type": "code",
      "metadata": {
        "id": "dp2l7TMIcOM8",
        "colab_type": "code",
        "colab": {
          "base_uri": "https://localhost:8080/",
          "height": 34
        },
        "outputId": "00d1518b-7a0a-4423-d471-02a283607c4b"
      },
      "source": [
        "new_list = [evennumber*100 for evennumber in [0, 1, 2, 3, 4, 5, 6]]\n",
        "new_list"
      ],
      "execution_count": null,
      "outputs": [
        {
          "output_type": "execute_result",
          "data": {
            "text/plain": [
              "[0, 100, 200, 300, 400, 500, 600]"
            ]
          },
          "metadata": {
            "tags": []
          },
          "execution_count": 55
        }
      ]
    },
    {
      "cell_type": "markdown",
      "metadata": {
        "id": "oF6OFaEjc-XF",
        "colab_type": "text"
      },
      "source": [
        "**Removing** elements from the list\n"
      ]
    },
    {
      "cell_type": "code",
      "metadata": {
        "id": "bOb4hcwDdBII",
        "colab_type": "code",
        "colab": {
          "base_uri": "https://localhost:8080/",
          "height": 34
        },
        "outputId": "b8ba67e4-a6a3-4450-f36c-e1044123e540"
      },
      "source": [
        "sample_list = [ 1, 2, 1, \"orange\", 5, 100, 200, 300 ]\n",
        "sample_list.remove(1)  # Remove the first element with the given value\n",
        "sample_list"
      ],
      "execution_count": null,
      "outputs": [
        {
          "output_type": "execute_result",
          "data": {
            "text/plain": [
              "[2, 1, 'orange', 5, 100, 200, 300]"
            ]
          },
          "metadata": {
            "tags": []
          },
          "execution_count": 11
        }
      ]
    },
    {
      "cell_type": "code",
      "metadata": {
        "id": "E3w3BpOsdRPn",
        "colab_type": "code",
        "colab": {
          "base_uri": "https://localhost:8080/",
          "height": 34
        },
        "outputId": "3fc1a776-dec3-45bc-e15f-faee21ce66c5"
      },
      "source": [
        "sample_list.remove('orange')  # Remove the element from the list\n",
        "sample_list"
      ],
      "execution_count": null,
      "outputs": [
        {
          "output_type": "execute_result",
          "data": {
            "text/plain": [
              "[2, 1, 5, 100, 200, 300]"
            ]
          },
          "metadata": {
            "tags": []
          },
          "execution_count": 12
        }
      ]
    },
    {
      "cell_type": "code",
      "metadata": {
        "id": "tKnysuNsdQwG",
        "colab_type": "code",
        "colab": {
          "base_uri": "https://localhost:8080/",
          "height": 34
        },
        "outputId": "42048b8a-fcfa-4ef3-edc7-dfe576eb418d"
      },
      "source": [
        "sample_list.pop(-1)   # Remove from the index position specified"
      ],
      "execution_count": null,
      "outputs": [
        {
          "output_type": "execute_result",
          "data": {
            "text/plain": [
              "300"
            ]
          },
          "metadata": {
            "tags": []
          },
          "execution_count": 13
        }
      ]
    },
    {
      "cell_type": "code",
      "metadata": {
        "id": "pasaZJhxdgnq",
        "colab_type": "code",
        "colab": {
          "base_uri": "https://localhost:8080/",
          "height": 34
        },
        "outputId": "de455995-25f4-4182-fc53-ce97ac63e394"
      },
      "source": [
        "sample_list"
      ],
      "execution_count": null,
      "outputs": [
        {
          "output_type": "execute_result",
          "data": {
            "text/plain": [
              "[2, 1, 5, 100, 200]"
            ]
          },
          "metadata": {
            "tags": []
          },
          "execution_count": 14
        }
      ]
    },
    {
      "cell_type": "code",
      "metadata": {
        "id": "XRn1Uk_PpbTw",
        "colab_type": "code",
        "colab": {
          "base_uri": "https://localhost:8080/",
          "height": 34
        },
        "outputId": "f97088f6-0d7c-4a53-8cae-009958ca61fe"
      },
      "source": [
        "del sample_list[2]  #Remove from the index position specified \n",
        "sample_list"
      ],
      "execution_count": null,
      "outputs": [
        {
          "output_type": "execute_result",
          "data": {
            "text/plain": [
              "[2, 1, 100, 200]"
            ]
          },
          "metadata": {
            "tags": []
          },
          "execution_count": 15
        }
      ]
    },
    {
      "cell_type": "code",
      "metadata": {
        "id": "szlLNf1TpjpA",
        "colab_type": "code",
        "colab": {
          "base_uri": "https://localhost:8080/",
          "height": 34
        },
        "outputId": "522128aa-4e1a-4ff9-e540-87891b09fcc9"
      },
      "source": [
        "del sample_list[0:2]\n",
        "sample_list"
      ],
      "execution_count": null,
      "outputs": [
        {
          "output_type": "execute_result",
          "data": {
            "text/plain": [
              "[100, 200]"
            ]
          },
          "metadata": {
            "tags": []
          },
          "execution_count": 151
        }
      ]
    },
    {
      "cell_type": "markdown",
      "metadata": {
        "id": "H2kf-_yYeJBP",
        "colab_type": "text"
      },
      "source": [
        "**Searching** for the index of a element"
      ]
    },
    {
      "cell_type": "code",
      "metadata": {
        "id": "1MVidgBFeNVG",
        "colab_type": "code",
        "colab": {
          "base_uri": "https://localhost:8080/",
          "height": 34
        },
        "outputId": "f7ae4809-6c4a-403d-9878-4e4e815ebf5a"
      },
      "source": [
        "sample_list = [ 'apples', 'oranges', 'grapes', 'pineapples', 'bananas', 'oranges']\n",
        "sample_list"
      ],
      "execution_count": null,
      "outputs": [
        {
          "output_type": "execute_result",
          "data": {
            "text/plain": [
              "['apples', 'oranges', 'grapes', 'pineapples', 'bananas', 'oranges']"
            ]
          },
          "metadata": {
            "tags": []
          },
          "execution_count": 190
        }
      ]
    },
    {
      "cell_type": "code",
      "metadata": {
        "id": "Ab9hUg41urOV",
        "colab_type": "code",
        "colab": {
          "base_uri": "https://localhost:8080/",
          "height": 34
        },
        "outputId": "a4fe4387-7ab3-4247-dfc6-395a2f202b97"
      },
      "source": [
        "'oranges' in sample_list"
      ],
      "execution_count": null,
      "outputs": [
        {
          "output_type": "execute_result",
          "data": {
            "text/plain": [
              "True"
            ]
          },
          "metadata": {
            "tags": []
          },
          "execution_count": 191
        }
      ]
    },
    {
      "cell_type": "code",
      "metadata": {
        "id": "jer-QQVeuyNT",
        "colab_type": "code",
        "colab": {
          "base_uri": "https://localhost:8080/",
          "height": 34
        },
        "outputId": "0d070a3b-dcfa-46ea-d102-4b2f60cf1e86"
      },
      "source": [
        "'fig' in sample_list"
      ],
      "execution_count": null,
      "outputs": [
        {
          "output_type": "execute_result",
          "data": {
            "text/plain": [
              "False"
            ]
          },
          "metadata": {
            "tags": []
          },
          "execution_count": 192
        }
      ]
    },
    {
      "cell_type": "code",
      "metadata": {
        "id": "niBxe5VoeoRa",
        "colab_type": "code",
        "colab": {
          "base_uri": "https://localhost:8080/",
          "height": 34
        },
        "outputId": "af93b937-9845-45eb-a542-474920d587d2"
      },
      "source": [
        "sample_list.index('oranges') # fined the index"
      ],
      "execution_count": null,
      "outputs": [
        {
          "output_type": "execute_result",
          "data": {
            "text/plain": [
              "1"
            ]
          },
          "metadata": {
            "tags": []
          },
          "execution_count": 81
        }
      ]
    },
    {
      "cell_type": "code",
      "metadata": {
        "id": "Wg3p2-xTesQd",
        "colab_type": "code",
        "colab": {
          "base_uri": "https://localhost:8080/",
          "height": 34
        },
        "outputId": "e68a98bb-0b6e-45ea-9cad-dd66eed5fefa"
      },
      "source": [
        "sample_list.index('bananas')"
      ],
      "execution_count": null,
      "outputs": [
        {
          "output_type": "execute_result",
          "data": {
            "text/plain": [
              "4"
            ]
          },
          "metadata": {
            "tags": []
          },
          "execution_count": 84
        }
      ]
    },
    {
      "cell_type": "code",
      "metadata": {
        "id": "b3aKh7h8e0mK",
        "colab_type": "code",
        "colab": {
          "base_uri": "https://localhost:8080/",
          "height": 34
        },
        "outputId": "a74ba807-918e-4b24-c5dd-ea94f20f02af"
      },
      "source": [
        "sample_list.index('oranges', 2)  # specifying the start index"
      ],
      "execution_count": null,
      "outputs": [
        {
          "output_type": "execute_result",
          "data": {
            "text/plain": [
              "5"
            ]
          },
          "metadata": {
            "tags": []
          },
          "execution_count": 85
        }
      ]
    },
    {
      "cell_type": "code",
      "metadata": {
        "id": "yAcVn18rfBmH",
        "colab_type": "code",
        "colab": {
          "base_uri": "https://localhost:8080/",
          "height": 34
        },
        "outputId": "9a2b09de-f65d-4aea-ee39-3a11e013a5f7"
      },
      "source": [
        "try:\n",
        "  sample_list.index('fig') ## an ValueError exception is raised\n",
        "except ValueError as err:\n",
        "  print('Value not found')"
      ],
      "execution_count": null,
      "outputs": [
        {
          "output_type": "stream",
          "text": [
            "Value not found\n"
          ],
          "name": "stdout"
        }
      ]
    },
    {
      "cell_type": "markdown",
      "metadata": {
        "id": "Noy2tgvWfgcW",
        "colab_type": "text"
      },
      "source": [
        "**Combining** lists"
      ]
    },
    {
      "cell_type": "code",
      "metadata": {
        "id": "OPA1MU0JfiDO",
        "colab_type": "code",
        "colab": {
          "base_uri": "https://localhost:8080/",
          "height": 34
        },
        "outputId": "5ff5cbc1-7720-4371-ede1-2cf9366c1f42"
      },
      "source": [
        "list_1 = [ 1, 2, 3]\n",
        "list_2 = [ 4, 5, 6]\n",
        "list_3 = list_1 + list_2\n",
        "list_3"
      ],
      "execution_count": null,
      "outputs": [
        {
          "output_type": "execute_result",
          "data": {
            "text/plain": [
              "[1, 2, 3, 4, 5, 6]"
            ]
          },
          "metadata": {
            "tags": []
          },
          "execution_count": 96
        }
      ]
    },
    {
      "cell_type": "code",
      "metadata": {
        "id": "PlV3w9JrfsJv",
        "colab_type": "code",
        "colab": {
          "base_uri": "https://localhost:8080/",
          "height": 34
        },
        "outputId": "589127e1-f5f8-4ff5-88f5-1e94954ac595"
      },
      "source": [
        "list_1.extend(list_2) # extends the same list\n",
        "list_1"
      ],
      "execution_count": null,
      "outputs": [
        {
          "output_type": "execute_result",
          "data": {
            "text/plain": [
              "[1, 2, 3, 4, 5, 6]"
            ]
          },
          "metadata": {
            "tags": []
          },
          "execution_count": 97
        }
      ]
    },
    {
      "cell_type": "markdown",
      "metadata": {
        "id": "477AcTbvi1H7",
        "colab_type": "text"
      },
      "source": [
        "#### Useful functions\n",
        "\n"
      ]
    },
    {
      "cell_type": "code",
      "metadata": {
        "id": "bBG-2hzOi6yK",
        "colab_type": "code",
        "colab": {
          "base_uri": "https://localhost:8080/",
          "height": 34
        },
        "outputId": "200f6505-63d0-42f4-919f-5ee5c664c013"
      },
      "source": [
        "sample_list = [ True, 10, \"orange\" ]\n",
        "all(sample_list) # returns True if all elements of the list are coerced to True"
      ],
      "execution_count": null,
      "outputs": [
        {
          "output_type": "execute_result",
          "data": {
            "text/plain": [
              "True"
            ]
          },
          "metadata": {
            "tags": []
          },
          "execution_count": 103
        }
      ]
    },
    {
      "cell_type": "code",
      "metadata": {
        "id": "Qeop78JujItK",
        "colab_type": "code",
        "colab": {
          "base_uri": "https://localhost:8080/",
          "height": 34
        },
        "outputId": "3727510a-d8f1-4e61-80fa-9cebaa7874ae"
      },
      "source": [
        "sample_list.append(False)\n",
        "sample_list"
      ],
      "execution_count": null,
      "outputs": [
        {
          "output_type": "execute_result",
          "data": {
            "text/plain": [
              "[True, 10, 'orange', False]"
            ]
          },
          "metadata": {
            "tags": []
          },
          "execution_count": 104
        }
      ]
    },
    {
      "cell_type": "code",
      "metadata": {
        "id": "3kAos3NWjPNw",
        "colab_type": "code",
        "colab": {
          "base_uri": "https://localhost:8080/",
          "height": 34
        },
        "outputId": "8f34beb6-53a0-46d3-bc61-5223467ac0b9"
      },
      "source": [
        "all(sample_list)"
      ],
      "execution_count": null,
      "outputs": [
        {
          "output_type": "execute_result",
          "data": {
            "text/plain": [
              "False"
            ]
          },
          "metadata": {
            "tags": []
          },
          "execution_count": 105
        }
      ]
    },
    {
      "cell_type": "code",
      "metadata": {
        "id": "L4pOR9XJjRrQ",
        "colab_type": "code",
        "colab": {
          "base_uri": "https://localhost:8080/",
          "height": 34
        },
        "outputId": "942b68c7-3e70-43a2-b7c2-ef703304ce83"
      },
      "source": [
        "any(sample_list) # returns True if any element of the list is coerced to True"
      ],
      "execution_count": null,
      "outputs": [
        {
          "output_type": "execute_result",
          "data": {
            "text/plain": [
              "True"
            ]
          },
          "metadata": {
            "tags": []
          },
          "execution_count": 106
        }
      ]
    },
    {
      "cell_type": "code",
      "metadata": {
        "id": "O8enfVPgjow5",
        "colab_type": "code",
        "colab": {
          "base_uri": "https://localhost:8080/",
          "height": 68
        },
        "outputId": "367babc4-c250-42d1-a79c-ef9c49e64244"
      },
      "source": [
        "sample_list = [ 20, \"apples\", 100 ]\n",
        "enum_list = enumerate(sample_list) # Creates an enumeration object from the list\n",
        "for index,item in enum_list:\n",
        "  print(index, item)"
      ],
      "execution_count": null,
      "outputs": [
        {
          "output_type": "stream",
          "text": [
            "0 20\n",
            "1 apples\n",
            "2 100\n"
          ],
          "name": "stdout"
        }
      ]
    },
    {
      "cell_type": "code",
      "metadata": {
        "id": "qHcxFp4fkdbj",
        "colab_type": "code",
        "colab": {
          "base_uri": "https://localhost:8080/",
          "height": 34
        },
        "outputId": "b4273b62-5d01-4a17-96fa-c4affb3b5846"
      },
      "source": [
        "sample_list = [ 5, 2, 6.0, 3.5, 4.5 ]\n",
        "min(sample_list)        # returns the minimal value"
      ],
      "execution_count": null,
      "outputs": [
        {
          "output_type": "execute_result",
          "data": {
            "text/plain": [
              "2"
            ]
          },
          "metadata": {
            "tags": []
          },
          "execution_count": 128
        }
      ]
    },
    {
      "cell_type": "code",
      "metadata": {
        "id": "zOIYkunYkdSV",
        "colab_type": "code",
        "colab": {
          "base_uri": "https://localhost:8080/",
          "height": 34
        },
        "outputId": "bd3abd6e-1257-4501-ec8d-e3ac60fb30e5"
      },
      "source": [
        "max(sample_list)        # returns the maximal value"
      ],
      "execution_count": null,
      "outputs": [
        {
          "output_type": "execute_result",
          "data": {
            "text/plain": [
              "6.0"
            ]
          },
          "metadata": {
            "tags": []
          },
          "execution_count": 129
        }
      ]
    },
    {
      "cell_type": "code",
      "metadata": {
        "id": "ZdYQk67Fk4YC",
        "colab_type": "code",
        "colab": {
          "base_uri": "https://localhost:8080/",
          "height": 34
        },
        "outputId": "4c1dac82-b97b-4f9e-96ff-5697e03df00f"
      },
      "source": [
        "sorted(sample_list)     # sort the contents of the list"
      ],
      "execution_count": null,
      "outputs": [
        {
          "output_type": "execute_result",
          "data": {
            "text/plain": [
              "[2, 3.5, 4.5, 5, 6.0]"
            ]
          },
          "metadata": {
            "tags": []
          },
          "execution_count": 130
        }
      ]
    },
    {
      "cell_type": "code",
      "metadata": {
        "id": "dftkBv_do2HG",
        "colab_type": "code",
        "colab": {
          "base_uri": "https://localhost:8080/",
          "height": 34
        },
        "outputId": "9b50581b-954c-46cc-b073-30ad21d663db"
      },
      "source": [
        "sorted(sample_list, reverse=True)"
      ],
      "execution_count": null,
      "outputs": [
        {
          "output_type": "execute_result",
          "data": {
            "text/plain": [
              "[6.0, 5, 4.5, 3.5, 2]"
            ]
          },
          "metadata": {
            "tags": []
          },
          "execution_count": 132
        }
      ]
    },
    {
      "cell_type": "code",
      "metadata": {
        "id": "qJ41wd7pk7h0",
        "colab_type": "code",
        "colab": {
          "base_uri": "https://localhost:8080/",
          "height": 34
        },
        "outputId": "d040d9af-d81b-4fbc-ceda-727d52dcdc9b"
      },
      "source": [
        "sum(sample_list)       # sum the contents of the list"
      ],
      "execution_count": null,
      "outputs": [
        {
          "output_type": "execute_result",
          "data": {
            "text/plain": [
              "21.0"
            ]
          },
          "metadata": {
            "tags": []
          },
          "execution_count": 131
        }
      ]
    },
    {
      "cell_type": "markdown",
      "metadata": {
        "id": "IEqmdgghp-4r",
        "colab_type": "text"
      },
      "source": [
        "###Set\n",
        "\n",
        "Sets in Python represents and unindexed collection of immutable unique values. \n",
        "This is similar to the math sets. \n",
        "\n",
        "The sets can contain elements of heterogeneous types but the types has to be hashable.\n"
      ]
    },
    {
      "cell_type": "markdown",
      "metadata": {
        "id": "H7YUKRxX_Nvh",
        "colab_type": "text"
      },
      "source": [
        "**Creating** a set"
      ]
    },
    {
      "cell_type": "code",
      "metadata": {
        "id": "9-UYXbbEqSay",
        "colab_type": "code",
        "colab": {
          "base_uri": "https://localhost:8080/",
          "height": 34
        },
        "outputId": "ef9acaf5-284f-4b95-95f8-156a338b9d94"
      },
      "source": [
        "set_1 = { 1, 2, 3.5 , \"apple\", (3, 4) }\n",
        "set_1"
      ],
      "execution_count": null,
      "outputs": [
        {
          "output_type": "execute_result",
          "data": {
            "text/plain": [
              "{(3, 4), 1, 2, 3.5, 'apple'}"
            ]
          },
          "metadata": {
            "tags": []
          },
          "execution_count": 167
        }
      ]
    },
    {
      "cell_type": "code",
      "metadata": {
        "id": "3FSkDyRMq5Fa",
        "colab_type": "code",
        "colab": {
          "base_uri": "https://localhost:8080/",
          "height": 102
        },
        "outputId": "9e89bb74-6d9d-402c-c19c-395f77114187"
      },
      "source": [
        "print(hash(1))\n",
        "print(hash(2))\n",
        "print(hash(3.5))\n",
        "print(hash(\"apple\"))\n",
        "print(hash((3, 4)))"
      ],
      "execution_count": null,
      "outputs": [
        {
          "output_type": "stream",
          "text": [
            "1\n",
            "2\n",
            "1152921504606846979\n",
            "4567313548587278157\n",
            "3713083796997400956\n"
          ],
          "name": "stdout"
        }
      ]
    },
    {
      "cell_type": "code",
      "metadata": {
        "id": "YDY-HN8vqbpb",
        "colab_type": "code",
        "colab": {
          "base_uri": "https://localhost:8080/",
          "height": 34
        },
        "outputId": "7a399f88-acbc-410a-d972-906d02dbe3ad"
      },
      "source": [
        "set_2 = { 10, 20, 30 }          #  or set([10 , 20, 10])\n",
        "set_2"
      ],
      "execution_count": null,
      "outputs": [
        {
          "output_type": "execute_result",
          "data": {
            "text/plain": [
              "{10, 20, 30}"
            ]
          },
          "metadata": {
            "tags": []
          },
          "execution_count": 178
        }
      ]
    },
    {
      "cell_type": "markdown",
      "metadata": {
        "id": "VIdubk6Sr5bX",
        "colab_type": "text"
      },
      "source": [
        "**Adding** elements to a set"
      ]
    },
    {
      "cell_type": "code",
      "metadata": {
        "id": "3XwvOJN9r8dn",
        "colab_type": "code",
        "colab": {
          "base_uri": "https://localhost:8080/",
          "height": 34
        },
        "outputId": "51299057-81fb-466d-85be-a01f52bac9c6"
      },
      "source": [
        "new_set = set()                # Created an empty set\n",
        "new_set.add(1)                 # adds a single element\n",
        "new_set"
      ],
      "execution_count": null,
      "outputs": [
        {
          "output_type": "execute_result",
          "data": {
            "text/plain": [
              "{1}"
            ]
          },
          "metadata": {
            "tags": []
          },
          "execution_count": 16
        }
      ]
    },
    {
      "cell_type": "code",
      "metadata": {
        "id": "PfvyTUSYtbeC",
        "colab_type": "code",
        "colab": {
          "base_uri": "https://localhost:8080/",
          "height": 34
        },
        "outputId": "65a8538d-3adf-4423-ea6d-4e98421b2e85"
      },
      "source": [
        "new_set.update([ 1, 2, 3 ], { 4, 5, 5 }) # adds multiple elements\n",
        "new_set"
      ],
      "execution_count": null,
      "outputs": [
        {
          "output_type": "execute_result",
          "data": {
            "text/plain": [
              "{1, 2, 3, 4, 5}"
            ]
          },
          "metadata": {
            "tags": []
          },
          "execution_count": 18
        }
      ]
    },
    {
      "cell_type": "markdown",
      "metadata": {
        "id": "z3ttjnu2wseO",
        "colab_type": "text"
      },
      "source": [
        "**Removing** elements from a set\n"
      ]
    },
    {
      "cell_type": "code",
      "metadata": {
        "id": "MdQtIAXQwxgf",
        "colab_type": "code",
        "colab": {
          "base_uri": "https://localhost:8080/",
          "height": 34
        },
        "outputId": "99f81ceb-59ea-43fd-a4e7-d3ff694a6c72"
      },
      "source": [
        "sample_set = { 1, 2, 3 }\n",
        "sample_set.discard(2)\n",
        "sample_set"
      ],
      "execution_count": null,
      "outputs": [
        {
          "output_type": "execute_result",
          "data": {
            "text/plain": [
              "{1, 3}"
            ]
          },
          "metadata": {
            "tags": []
          },
          "execution_count": 32
        }
      ]
    },
    {
      "cell_type": "code",
      "metadata": {
        "id": "iUjQeEXVxLwj",
        "colab_type": "code",
        "colab": {
          "base_uri": "https://localhost:8080/",
          "height": 34
        },
        "outputId": "b01d057b-c352-4cd4-fa1b-bdad8e2dac35"
      },
      "source": [
        "sample_set.discard(2)\n",
        "sample_set"
      ],
      "execution_count": null,
      "outputs": [
        {
          "output_type": "execute_result",
          "data": {
            "text/plain": [
              "{1, 3}"
            ]
          },
          "metadata": {
            "tags": []
          },
          "execution_count": 33
        }
      ]
    },
    {
      "cell_type": "code",
      "metadata": {
        "id": "tP8-1GkSxCeb",
        "colab_type": "code",
        "colab": {
          "base_uri": "https://localhost:8080/",
          "height": 34
        },
        "outputId": "ed882c0f-15b6-432e-c6bd-ef1d1a419bc4"
      },
      "source": [
        "sample_set.remove(1) # The same of discard but can raise an exception\n",
        "sample_set"
      ],
      "execution_count": null,
      "outputs": [
        {
          "output_type": "execute_result",
          "data": {
            "text/plain": [
              "{3}"
            ]
          },
          "metadata": {
            "tags": []
          },
          "execution_count": 34
        }
      ]
    },
    {
      "cell_type": "code",
      "metadata": {
        "id": "fzAs72HfxG_y",
        "colab_type": "code",
        "colab": {
          "base_uri": "https://localhost:8080/",
          "height": 34
        },
        "outputId": "70f78844-6356-42e9-ab5c-0787217ec69e"
      },
      "source": [
        "try:\n",
        "  sample_set.remove(1)\n",
        "except KeyError as err:\n",
        "  print('item dos not exists on the set')"
      ],
      "execution_count": null,
      "outputs": [
        {
          "output_type": "stream",
          "text": [
            "item dos not exists on the set\n"
          ],
          "name": "stdout"
        }
      ]
    },
    {
      "cell_type": "markdown",
      "metadata": {
        "id": "UsY7uMsLxxRd",
        "colab_type": "text"
      },
      "source": [
        "#### Set operations\n",
        "\n",
        "\n",
        "![Set Operations](https://www.learnbyexample.org/wp-content/uploads/python/Python-Set-Operatioons.png)\n",
        "\n",
        "[image from Learn by Example](https://www.learnbyexample.org/python-set/)\n",
        "\n",
        "\n",
        "Set **Union**\n"
      ]
    },
    {
      "cell_type": "code",
      "metadata": {
        "id": "bQ3Rc35xyHOn",
        "colab_type": "code",
        "colab": {
          "base_uri": "https://localhost:8080/",
          "height": 34
        },
        "outputId": "8c63d4b5-f6ba-40a7-db91-7f4160878930"
      },
      "source": [
        "set_1 = { \"apples\", \"bananas\" }\n",
        "set_2 = { \"apples\", \"oranges \"}\n",
        "\n",
        "set_1 | set_2\n"
      ],
      "execution_count": null,
      "outputs": [
        {
          "output_type": "execute_result",
          "data": {
            "text/plain": [
              "{'apples', 'bananas', 'oranges '}"
            ]
          },
          "metadata": {
            "tags": []
          },
          "execution_count": 205
        }
      ]
    },
    {
      "cell_type": "markdown",
      "metadata": {
        "id": "N7lhVLLZyiDM",
        "colab_type": "text"
      },
      "source": [
        "Set **Intersection**"
      ]
    },
    {
      "cell_type": "code",
      "metadata": {
        "id": "Hn5LXBKzyeoP",
        "colab_type": "code",
        "colab": {
          "base_uri": "https://localhost:8080/",
          "height": 34
        },
        "outputId": "edcde01d-fe37-4abb-85b8-aa7836976814"
      },
      "source": [
        "set_1 & set_2"
      ],
      "execution_count": null,
      "outputs": [
        {
          "output_type": "execute_result",
          "data": {
            "text/plain": [
              "{'apples'}"
            ]
          },
          "metadata": {
            "tags": []
          },
          "execution_count": 206
        }
      ]
    },
    {
      "cell_type": "markdown",
      "metadata": {
        "id": "LaoNA0WW12J8",
        "colab_type": "text"
      },
      "source": [
        "Set **difference**\n"
      ]
    },
    {
      "cell_type": "code",
      "metadata": {
        "id": "Tb8VEKxK10yO",
        "colab_type": "code",
        "colab": {
          "base_uri": "https://localhost:8080/",
          "height": 34
        },
        "outputId": "7c19f850-36be-4264-b7a5-4bff05133f7b"
      },
      "source": [
        "set_1 - set_2"
      ],
      "execution_count": null,
      "outputs": [
        {
          "output_type": "execute_result",
          "data": {
            "text/plain": [
              "{'bananas'}"
            ]
          },
          "metadata": {
            "tags": []
          },
          "execution_count": 207
        }
      ]
    },
    {
      "cell_type": "markdown",
      "metadata": {
        "id": "dwIfjyKF2C07",
        "colab_type": "text"
      },
      "source": [
        "Set **simmetric difference**"
      ]
    },
    {
      "cell_type": "code",
      "metadata": {
        "id": "z5VKljJX19vD",
        "colab_type": "code",
        "colab": {
          "base_uri": "https://localhost:8080/",
          "height": 34
        },
        "outputId": "2597bc78-f1f9-463a-de03-84306f8e56b9"
      },
      "source": [
        "set_1 ^ set_2"
      ],
      "execution_count": null,
      "outputs": [
        {
          "output_type": "execute_result",
          "data": {
            "text/plain": [
              "{'bananas', 'oranges '}"
            ]
          },
          "metadata": {
            "tags": []
          },
          "execution_count": 209
        }
      ]
    },
    {
      "cell_type": "markdown",
      "metadata": {
        "id": "OwQGVK-85uFW",
        "colab_type": "text"
      },
      "source": [
        "### Tuple\n",
        "\n",
        "Tuples a a immutable collection of heterogeneous elements.\n",
        "\n",
        "It's very similar to the list, but the elements and  the collection can not change. \n",
        "\n",
        "It's represented in Python enclosed by parenthesis `( )`"
      ]
    },
    {
      "cell_type": "code",
      "metadata": {
        "id": "8NGIlpWb69Os",
        "colab_type": "code",
        "colab": {
          "base_uri": "https://localhost:8080/",
          "height": 34
        },
        "outputId": "5bde2ff4-91e3-4a16-d7cc-9e5f147f8951"
      },
      "source": [
        "sample_tuple = (1, 2.0, \"orange\")\n",
        "sample_tuple"
      ],
      "execution_count": null,
      "outputs": [
        {
          "output_type": "execute_result",
          "data": {
            "text/plain": [
              "(1, 2.0, 'orange')"
            ]
          },
          "metadata": {
            "tags": []
          },
          "execution_count": 1
        }
      ]
    },
    {
      "cell_type": "code",
      "metadata": {
        "id": "IZBn7UoD7IdJ",
        "colab_type": "code",
        "colab": {
          "base_uri": "https://localhost:8080/",
          "height": 34
        },
        "outputId": "df619d19-03a2-497f-803d-a8aaadfcda49"
      },
      "source": [
        "sample_tuple[1]"
      ],
      "execution_count": null,
      "outputs": [
        {
          "output_type": "execute_result",
          "data": {
            "text/plain": [
              "2.0"
            ]
          },
          "metadata": {
            "tags": []
          },
          "execution_count": 3
        }
      ]
    },
    {
      "cell_type": "markdown",
      "metadata": {
        "id": "SSKp8CpsAD-F",
        "colab_type": "text"
      },
      "source": [
        "Change the value is not allowed"
      ]
    },
    {
      "cell_type": "code",
      "metadata": {
        "id": "hM-Sw5wN7OgH",
        "colab_type": "code",
        "colab": {
          "base_uri": "https://localhost:8080/",
          "height": 34
        },
        "outputId": "259f9ddb-1363-411b-b004-e14f9e9dc76f"
      },
      "source": [
        "try:\n",
        "  sample_tuple[1] = 3\n",
        "except TypeError as err:\n",
        "  print(err)"
      ],
      "execution_count": null,
      "outputs": [
        {
          "output_type": "stream",
          "text": [
            "'tuple' object does not support item assignment\n"
          ],
          "name": "stdout"
        }
      ]
    },
    {
      "cell_type": "code",
      "metadata": {
        "id": "Fxeb8qtQ7h8t",
        "colab_type": "code",
        "colab": {
          "base_uri": "https://localhost:8080/",
          "height": 34
        },
        "outputId": "724fc35e-9320-4d3c-f275-a8e3b7507e75"
      },
      "source": [
        "sample_tuple = tuple([1, 2, 2, 3])      # another form of creating a tuple\n",
        "sample_tuple"
      ],
      "execution_count": null,
      "outputs": [
        {
          "output_type": "execute_result",
          "data": {
            "text/plain": [
              "(1, 2, 2, 3)"
            ]
          },
          "metadata": {
            "tags": []
          },
          "execution_count": 44
        }
      ]
    },
    {
      "cell_type": "markdown",
      "metadata": {
        "id": "a5Li_namA5wC",
        "colab_type": "text"
      },
      "source": [
        "**Counting** the number of occurences of a element"
      ]
    },
    {
      "cell_type": "code",
      "metadata": {
        "id": "aBbgQ1il7NgJ",
        "colab_type": "code",
        "colab": {
          "base_uri": "https://localhost:8080/",
          "height": 34
        },
        "outputId": "a6d94de6-5833-4c12-c95b-2af29900a331"
      },
      "source": [
        "sample_tuple.count(2)"
      ],
      "execution_count": null,
      "outputs": [
        {
          "output_type": "execute_result",
          "data": {
            "text/plain": [
              "2"
            ]
          },
          "metadata": {
            "tags": []
          },
          "execution_count": 46
        }
      ]
    },
    {
      "cell_type": "markdown",
      "metadata": {
        "id": "ya3K0YLoBCia",
        "colab_type": "text"
      },
      "source": [
        "Calculating the **lenght** of a tuple"
      ]
    },
    {
      "cell_type": "code",
      "metadata": {
        "id": "b9dumFYYAgCA",
        "colab_type": "code",
        "colab": {
          "base_uri": "https://localhost:8080/",
          "height": 34
        },
        "outputId": "d213873c-6ac6-4f42-d9d6-23accf8a4acc"
      },
      "source": [
        "len(sample_tuple)"
      ],
      "execution_count": null,
      "outputs": [
        {
          "output_type": "execute_result",
          "data": {
            "text/plain": [
              "4"
            ]
          },
          "metadata": {
            "tags": []
          },
          "execution_count": 47
        }
      ]
    },
    {
      "cell_type": "markdown",
      "metadata": {
        "id": "ZufeB9wBBpO4",
        "colab_type": "text"
      },
      "source": [
        "### Dictionary\n",
        "\n",
        "A dictionary stores a collection of key/value pairs. The keys a values are separed by the colon `:` and the elements separated by commas `,`. All the elements are enclosed by the `{}`. The values can also be heterogeneous. "
      ]
    },
    {
      "cell_type": "markdown",
      "metadata": {
        "id": "oL4TxbugCxKV",
        "colab_type": "text"
      },
      "source": [
        "**Creating** a dictionary"
      ]
    },
    {
      "cell_type": "code",
      "metadata": {
        "id": "OGCmKsirAf2k",
        "colab_type": "code",
        "colab": {
          "base_uri": "https://localhost:8080/",
          "height": 34
        },
        "outputId": "556a03ec-e234-4e0d-84be-b8b73f300132"
      },
      "source": [
        "sample_dict = { \"it\": \"Italy\", \"br\": \"Brazil\", \"us\": \"United States\" }       \n",
        "sample_dict"
      ],
      "execution_count": null,
      "outputs": [
        {
          "output_type": "execute_result",
          "data": {
            "text/plain": [
              "{'br': 'Brazil', 'it': 'Italy', 'us': 'United States'}"
            ]
          },
          "metadata": {
            "tags": []
          },
          "execution_count": 49
        }
      ]
    },
    {
      "cell_type": "markdown",
      "metadata": {
        "id": "SyE9FRY8D3Ea",
        "colab_type": "text"
      },
      "source": [
        "**Accessing** a dictionary"
      ]
    },
    {
      "cell_type": "code",
      "metadata": {
        "id": "HHCHyildAfrL",
        "colab_type": "code",
        "colab": {
          "base_uri": "https://localhost:8080/",
          "height": 35
        },
        "outputId": "bdcc485a-1fce-44c1-ba85-df39c41bea15"
      },
      "source": [
        "sample_dict[\"it\"]"
      ],
      "execution_count": null,
      "outputs": [
        {
          "output_type": "execute_result",
          "data": {
            "application/vnd.google.colaboratory.intrinsic": {
              "type": "string"
            },
            "text/plain": [
              "'Italy'"
            ]
          },
          "metadata": {
            "tags": []
          },
          "execution_count": 50
        }
      ]
    },
    {
      "cell_type": "code",
      "metadata": {
        "id": "7rbQbUNPAfdd",
        "colab_type": "code",
        "colab": {
          "base_uri": "https://localhost:8080/",
          "height": 34
        },
        "outputId": "55047387-8998-4edf-994b-45d2e0dae64f"
      },
      "source": [
        "try:\n",
        "  sample_dict[0]\n",
        "except KeyError as err:\n",
        "  print(\"You can not access by index\")"
      ],
      "execution_count": null,
      "outputs": [
        {
          "output_type": "stream",
          "text": [
            "You can not access by index\n"
          ],
          "name": "stdout"
        }
      ]
    },
    {
      "cell_type": "code",
      "metadata": {
        "id": "GvAdTdSvIZG-",
        "colab_type": "code",
        "colab": {
          "base_uri": "https://localhost:8080/",
          "height": 34
        },
        "outputId": "160c7164-97f1-4c1c-b32a-ba45ed602681"
      },
      "source": [
        "sample_dict = { 1: \"first\", 2: \"second\", 3.0: \"third\" }\n",
        "sample_dict"
      ],
      "execution_count": null,
      "outputs": [
        {
          "output_type": "execute_result",
          "data": {
            "text/plain": [
              "{1: 'first', 2: 'second', 3.0: 'third'}"
            ]
          },
          "metadata": {
            "tags": []
          },
          "execution_count": 69
        }
      ]
    },
    {
      "cell_type": "code",
      "metadata": {
        "id": "rO_3_ZsXIjv_",
        "colab_type": "code",
        "colab": {
          "base_uri": "https://localhost:8080/",
          "height": 35
        },
        "outputId": "8a7afd0d-ed88-487e-eb0a-4f2d42e989ca"
      },
      "source": [
        "sample_dict[2]"
      ],
      "execution_count": null,
      "outputs": [
        {
          "output_type": "execute_result",
          "data": {
            "application/vnd.google.colaboratory.intrinsic": {
              "type": "string"
            },
            "text/plain": [
              "'second'"
            ]
          },
          "metadata": {
            "tags": []
          },
          "execution_count": 70
        }
      ]
    },
    {
      "cell_type": "code",
      "metadata": {
        "id": "ZFS0zTSOImyy",
        "colab_type": "code",
        "colab": {
          "base_uri": "https://localhost:8080/",
          "height": 35
        },
        "outputId": "ab3b5a9b-6327-4fd5-bb78-e008cd2999c4"
      },
      "source": [
        "sample_dict[3.0]"
      ],
      "execution_count": null,
      "outputs": [
        {
          "output_type": "execute_result",
          "data": {
            "application/vnd.google.colaboratory.intrinsic": {
              "type": "string"
            },
            "text/plain": [
              "'third'"
            ]
          },
          "metadata": {
            "tags": []
          },
          "execution_count": 71
        }
      ]
    },
    {
      "cell_type": "code",
      "metadata": {
        "id": "dO6nu8jqEEFB",
        "colab_type": "code",
        "colab": {
          "base_uri": "https://localhost:8080/",
          "height": 51
        },
        "outputId": "96d2c2bf-eb42-49c6-ba0f-db02b6f5b30c"
      },
      "source": [
        "products = { \"product1\": { \"name\": \"TV LCD\", \"value\": 300 }, \\\n",
        "               \"product2\": { \"name\": \"PS4\", \"value\": 250 }}\n",
        "products"
      ],
      "execution_count": null,
      "outputs": [
        {
          "output_type": "execute_result",
          "data": {
            "text/plain": [
              "{'product1': {'name': 'TV LCD', 'value': 300},\n",
              " 'product2': {'name': 'PS4', 'value': 250}}"
            ]
          },
          "metadata": {
            "tags": []
          },
          "execution_count": 61
        }
      ]
    },
    {
      "cell_type": "code",
      "metadata": {
        "id": "hNhDM6XyED_C",
        "colab_type": "code",
        "colab": {
          "base_uri": "https://localhost:8080/",
          "height": 35
        },
        "outputId": "31ce2491-7778-4602-8aa3-3bd189e17e1c"
      },
      "source": [
        "products[\"product2\"][\"name\"]"
      ],
      "execution_count": null,
      "outputs": [
        {
          "output_type": "execute_result",
          "data": {
            "application/vnd.google.colaboratory.intrinsic": {
              "type": "string"
            },
            "text/plain": [
              "'PS4'"
            ]
          },
          "metadata": {
            "tags": []
          },
          "execution_count": 62
        }
      ]
    },
    {
      "cell_type": "code",
      "metadata": {
        "id": "lQ7QoGICMTlM",
        "colab_type": "code",
        "colab": {
          "base_uri": "https://localhost:8080/",
          "height": 34
        },
        "outputId": "325a0297-7e85-4327-fae4-5e00b8115c6a"
      },
      "source": [
        "\"product1\" in products        # test if a key exists"
      ],
      "execution_count": null,
      "outputs": [
        {
          "output_type": "execute_result",
          "data": {
            "text/plain": [
              "True"
            ]
          },
          "metadata": {
            "tags": []
          },
          "execution_count": 96
        }
      ]
    },
    {
      "cell_type": "markdown",
      "metadata": {
        "id": "zIYzPk3pGwJr",
        "colab_type": "text"
      },
      "source": [
        "**Updating** a dictionary"
      ]
    },
    {
      "cell_type": "code",
      "metadata": {
        "id": "Vhe_OeXlED46",
        "colab_type": "code",
        "colab": {
          "base_uri": "https://localhost:8080/",
          "height": 34
        },
        "outputId": "635fbd8d-373a-48ae-c116-965c74f9b101"
      },
      "source": [
        "fruit_colors = { \"banana\" : \"yellow\" }\n",
        "fruit_colors"
      ],
      "execution_count": null,
      "outputs": [
        {
          "output_type": "execute_result",
          "data": {
            "text/plain": [
              "{'banana': 'yellow'}"
            ]
          },
          "metadata": {
            "tags": []
          },
          "execution_count": 63
        }
      ]
    },
    {
      "cell_type": "code",
      "metadata": {
        "id": "F8iyD-oNEDym",
        "colab_type": "code",
        "colab": {
          "base_uri": "https://localhost:8080/",
          "height": 34
        },
        "outputId": "b71c0843-563c-4c08-ec30-aada4524f50d"
      },
      "source": [
        "fruit_colors[\"grape\"] = \"purple\"     # can use the assign operator\n",
        "fruit_colors"
      ],
      "execution_count": null,
      "outputs": [
        {
          "output_type": "execute_result",
          "data": {
            "text/plain": [
              "{'banana': 'yellow', 'grape': 'purple'}"
            ]
          },
          "metadata": {
            "tags": []
          },
          "execution_count": 64
        }
      ]
    },
    {
      "cell_type": "code",
      "metadata": {
        "id": "L42oJGPZEDsZ",
        "colab_type": "code",
        "colab": {
          "base_uri": "https://localhost:8080/",
          "height": 85
        },
        "outputId": "54090954-1096-403b-947a-20c89e5711f0"
      },
      "source": [
        "fruit_colors.update({ \"orange\": \"orange\", \"strawberry\": \"red\", \"grape\": \"violet\"})   # or use update method\n",
        "fruit_colors"
      ],
      "execution_count": null,
      "outputs": [
        {
          "output_type": "execute_result",
          "data": {
            "text/plain": [
              "{'banana': 'yellow',\n",
              " 'grape': 'violet',\n",
              " 'orange': 'orange',\n",
              " 'strawberry': 'red'}"
            ]
          },
          "metadata": {
            "tags": []
          },
          "execution_count": 67
        }
      ]
    },
    {
      "cell_type": "markdown",
      "metadata": {
        "id": "dO8fz5XtI8-S",
        "colab_type": "text"
      },
      "source": [
        "**Removing** elements from a dictionary"
      ]
    },
    {
      "cell_type": "code",
      "metadata": {
        "id": "7gjfcw7NJBOe",
        "colab_type": "code",
        "colab": {
          "base_uri": "https://localhost:8080/",
          "height": 34
        },
        "outputId": "475f4d1d-3a71-453b-a191-fd97f9204d39"
      },
      "source": [
        "sample_dict = { \"it\": \"Italy\", \"br\": \"Brazil\", \"us\": \"United States\", \"fr\": \"france\" }       \n",
        "sample_dict"
      ],
      "execution_count": null,
      "outputs": [
        {
          "output_type": "execute_result",
          "data": {
            "text/plain": [
              "{'br': 'Brazil', 'fr': 'france', 'it': 'Italy', 'us': 'United States'}"
            ]
          },
          "metadata": {
            "tags": []
          },
          "execution_count": 77
        }
      ]
    },
    {
      "cell_type": "code",
      "metadata": {
        "id": "FKc_Qqy6JJSA",
        "colab_type": "code",
        "colab": {
          "base_uri": "https://localhost:8080/",
          "height": 34
        },
        "outputId": "3856b486-cdc1-4610-e7c8-408ebe769d50"
      },
      "source": [
        "del sample_dict[\"it\"]      # using the del operator\n",
        "sample_dict"
      ],
      "execution_count": null,
      "outputs": [
        {
          "output_type": "execute_result",
          "data": {
            "text/plain": [
              "{'br': 'Brazil', 'fr': 'france', 'us': 'United States'}"
            ]
          },
          "metadata": {
            "tags": []
          },
          "execution_count": 78
        }
      ]
    },
    {
      "cell_type": "code",
      "metadata": {
        "id": "nRISUP2ZEDkX",
        "colab_type": "code",
        "colab": {
          "base_uri": "https://localhost:8080/",
          "height": 34
        },
        "outputId": "229643d0-2c3e-4b64-afe5-cc1b242ae0d2"
      },
      "source": [
        "sample_dict.pop(\"br\")      # the same result using the pop method\n",
        "sample_dict"
      ],
      "execution_count": null,
      "outputs": [
        {
          "output_type": "execute_result",
          "data": {
            "text/plain": [
              "{'fr': 'france', 'us': 'United States'}"
            ]
          },
          "metadata": {
            "tags": []
          },
          "execution_count": 79
        }
      ]
    },
    {
      "cell_type": "code",
      "metadata": {
        "id": "C9rJw5vSEDXH",
        "colab_type": "code",
        "colab": {
          "base_uri": "https://localhost:8080/",
          "height": 34
        },
        "outputId": "36cbba9f-cc63-476b-ed6b-8b76294994ba"
      },
      "source": [
        "sample_dict.popitem()      # remove a random item from the dictionary"
      ],
      "execution_count": null,
      "outputs": [
        {
          "output_type": "execute_result",
          "data": {
            "text/plain": [
              "('fr', 'france')"
            ]
          },
          "metadata": {
            "tags": []
          },
          "execution_count": 80
        }
      ]
    },
    {
      "cell_type": "code",
      "metadata": {
        "id": "zCUEhYECJiQc",
        "colab_type": "code",
        "colab": {
          "base_uri": "https://localhost:8080/",
          "height": 34
        },
        "outputId": "a814048a-9fef-483b-943f-08493dad7d99"
      },
      "source": [
        "sample_dict.clear()        # clears all the dictionary\n",
        "sample_dict"
      ],
      "execution_count": null,
      "outputs": [
        {
          "output_type": "execute_result",
          "data": {
            "text/plain": [
              "{}"
            ]
          },
          "metadata": {
            "tags": []
          },
          "execution_count": 82
        }
      ]
    },
    {
      "cell_type": "markdown",
      "metadata": {
        "id": "JfZeUvP5KRkW",
        "colab_type": "text"
      },
      "source": [
        "**Iterate** through a dictionary"
      ]
    },
    {
      "cell_type": "code",
      "metadata": {
        "id": "VOaM7GV4JiDF",
        "colab_type": "code",
        "colab": {
          "base_uri": "https://localhost:8080/",
          "height": 85
        },
        "outputId": "aa5ef521-ff27-4446-df7c-dc5ff0e5b365"
      },
      "source": [
        "fruit_colors = {'banana': 'yellow','grape': 'violet','orange': 'orange','strawberry': 'red'}\n",
        "fruit_colors"
      ],
      "execution_count": null,
      "outputs": [
        {
          "output_type": "execute_result",
          "data": {
            "text/plain": [
              "{'banana': 'yellow',\n",
              " 'grape': 'violet',\n",
              " 'orange': 'orange',\n",
              " 'strawberry': 'red'}"
            ]
          },
          "metadata": {
            "tags": []
          },
          "execution_count": 89
        }
      ]
    },
    {
      "cell_type": "code",
      "metadata": {
        "id": "g3a4YOVbJh2V",
        "colab_type": "code",
        "colab": {
          "base_uri": "https://localhost:8080/",
          "height": 85
        },
        "outputId": "cb4d238d-add3-4afb-9551-2d411ccb64de"
      },
      "source": [
        "for key in fruit_colors:\n",
        "  print(f\"fruit color: {key} => {fruit_colors[key]}\")"
      ],
      "execution_count": null,
      "outputs": [
        {
          "output_type": "stream",
          "text": [
            "fruit color: banana => yellow\n",
            "fruit color: grape => violet\n",
            "fruit color: orange => orange\n",
            "fruit color: strawberry => red\n"
          ],
          "name": "stdout"
        }
      ]
    },
    {
      "cell_type": "code",
      "metadata": {
        "id": "ibjT9Vb7Jhom",
        "colab_type": "code",
        "colab": {
          "base_uri": "https://localhost:8080/",
          "height": 85
        },
        "outputId": "cb1d1b55-4f15-4cce-9342-0fca10d5efad"
      },
      "source": [
        "for key, value in fruit_colors.items():\n",
        "  print(f\"fruit color: {key} => {value}\")"
      ],
      "execution_count": null,
      "outputs": [
        {
          "output_type": "stream",
          "text": [
            "fruit color: banana => yellow\n",
            "fruit color: grape => violet\n",
            "fruit color: orange => orange\n",
            "fruit color: strawberry => red\n"
          ],
          "name": "stdout"
        }
      ]
    },
    {
      "cell_type": "markdown",
      "metadata": {
        "id": "3QHtPd3JMpdT",
        "colab_type": "text"
      },
      "source": [
        "**Dictionary** comprehension"
      ]
    },
    {
      "cell_type": "code",
      "metadata": {
        "id": "5NMj48jqMvn-",
        "colab_type": "code",
        "colab": {
          "base_uri": "https://localhost:8080/",
          "height": 34
        },
        "outputId": "c392c349-ba16-4232-e319-748e40f3b8f8"
      },
      "source": [
        "cardinal = [ \"first\", \"second\", \"third\", \"fourth\", \"fifth\" ]\n",
        "dict(enumerate(cardinal))"
      ],
      "execution_count": null,
      "outputs": [
        {
          "output_type": "execute_result",
          "data": {
            "text/plain": [
              "{0: 'first', 1: 'second', 2: 'third', 3: 'fourth', 4: 'fifth'}"
            ]
          },
          "metadata": {
            "tags": []
          },
          "execution_count": 110
        }
      ]
    },
    {
      "cell_type": "code",
      "metadata": {
        "id": "kVGc6kPaJhcI",
        "colab_type": "code",
        "colab": {
          "base_uri": "https://localhost:8080/",
          "height": 34
        },
        "outputId": "3d8082fa-d978-4469-98a3-0375c8208c98"
      },
      "source": [
        "ordinal_to_cardinal = { (o+1):c for o, c in enumerate(cardinal) }\n",
        "ordinal_to_cardinal"
      ],
      "execution_count": null,
      "outputs": [
        {
          "output_type": "execute_result",
          "data": {
            "text/plain": [
              "{1: 'first', 2: 'second', 3: 'third', 4: 'fourth', 5: 'fifth'}"
            ]
          },
          "metadata": {
            "tags": []
          },
          "execution_count": 111
        }
      ]
    },
    {
      "cell_type": "code",
      "metadata": {
        "id": "t3UfNw-qJhNE",
        "colab_type": "code",
        "colab": {}
      },
      "source": [
        ""
      ],
      "execution_count": null,
      "outputs": []
    },
    {
      "cell_type": "markdown",
      "metadata": {
        "id": "cF0iIZMdtk0p",
        "colab_type": "text"
      },
      "source": [
        "## Operators\n",
        "\n",
        "### Operators List\n",
        "\n",
        "The Python operators list is shown below. There is a correspondent function that cam be used in place of the operator. \n",
        "\n",
        "![Python Operators](https://raw.githubusercontent.com/mbellezi/python-and-neural-networks-intro/master/images/python-operators.png) \n",
        "\n",
        "[Image from Python documentation](https://docs.python.org/3.4/library/operator.html)\n",
        "\n",
        "### Operators Precedence\n",
        "\n",
        "![Operators Precedence](https://github.com/mbellezi/python-and-neural-networks-intro/raw/master/images/pyton-operators-precedence.png)\n",
        "\n",
        "[Image from Tutorials Point](https://www.tutorialspoint.com/python/operators_precedence_example.htm)"
      ]
    },
    {
      "cell_type": "markdown",
      "metadata": {
        "id": "NwQS1V2ttw6_",
        "colab_type": "text"
      },
      "source": [
        "##Control Statements\n"
      ]
    },
    {
      "cell_type": "markdown",
      "metadata": {
        "id": "J4qUZODbgJKv",
        "colab_type": "text"
      },
      "source": [
        "### If Else"
      ]
    },
    {
      "cell_type": "markdown",
      "metadata": {
        "id": "uvkcLWgvgcot",
        "colab_type": "text"
      },
      "source": [
        "**Basic Syntax:**\n",
        "\n",
        "```\n",
        "if logic expression:\n",
        "  code block\n",
        "```\n",
        "\n"
      ]
    },
    {
      "cell_type": "code",
      "metadata": {
        "id": "_QvLsE0hgvyd",
        "colab_type": "code",
        "colab": {
          "base_uri": "https://localhost:8080/",
          "height": 34
        },
        "outputId": "160ef894-9a52-4fc8-c84c-bfee8f9fa8fe"
      },
      "source": [
        "flag = True\n",
        "if flag:\n",
        "  print(\"Flag was on\")"
      ],
      "execution_count": null,
      "outputs": [
        {
          "output_type": "stream",
          "text": [
            "Flag was on\n"
          ],
          "name": "stdout"
        }
      ]
    },
    {
      "cell_type": "code",
      "metadata": {
        "id": "0IkCNB7oivbB",
        "colab_type": "code",
        "colab": {
          "base_uri": "https://localhost:8080/",
          "height": 34
        },
        "outputId": "99098d66-0238-4e19-a7f8-d3ae2f69b452"
      },
      "source": [
        "if flag == True:\n",
        "  print(\"Flag was on\")"
      ],
      "execution_count": null,
      "outputs": [
        {
          "output_type": "stream",
          "text": [
            "Flag was on\n"
          ],
          "name": "stdout"
        }
      ]
    },
    {
      "cell_type": "code",
      "metadata": {
        "id": "ON9QHR1xh3by",
        "colab_type": "code",
        "colab": {
          "base_uri": "https://localhost:8080/",
          "height": 34
        },
        "outputId": "ba5eec81-977c-4d87-e969-e814e5802dc6"
      },
      "source": [
        "if 10:\n",
        "  print(\"True\")"
      ],
      "execution_count": null,
      "outputs": [
        {
          "output_type": "stream",
          "text": [
            "True\n"
          ],
          "name": "stdout"
        }
      ]
    },
    {
      "cell_type": "code",
      "metadata": {
        "id": "GR9UH15kiArx",
        "colab_type": "code",
        "colab": {}
      },
      "source": [
        "if 0:\n",
        "  print(\"True\")"
      ],
      "execution_count": null,
      "outputs": []
    },
    {
      "cell_type": "code",
      "metadata": {
        "id": "sM1cjjDMiD4L",
        "colab_type": "code",
        "colab": {
          "base_uri": "https://localhost:8080/",
          "height": 34
        },
        "outputId": "87c5388d-cc30-4b4c-c3ff-9959884a1a64"
      },
      "source": [
        "if \"string\":\n",
        "  print(\"True\")"
      ],
      "execution_count": null,
      "outputs": [
        {
          "output_type": "stream",
          "text": [
            "True\n"
          ],
          "name": "stdout"
        }
      ]
    },
    {
      "cell_type": "code",
      "metadata": {
        "id": "MXww4zWziN13",
        "colab_type": "code",
        "colab": {}
      },
      "source": [
        "if \"\":\n",
        "  print(\"True\")"
      ],
      "execution_count": null,
      "outputs": []
    },
    {
      "cell_type": "code",
      "metadata": {
        "id": "V8XUw4sTiRSE",
        "colab_type": "code",
        "colab": {}
      },
      "source": [
        "if 0 or \"\" or None:\n",
        "  print(\"At least one was True\")"
      ],
      "execution_count": null,
      "outputs": []
    },
    {
      "cell_type": "markdown",
      "metadata": {
        "id": "sOiIs3nbi3pY",
        "colab_type": "text"
      },
      "source": [
        "**If Else Syntax**\n",
        "\n",
        "```\n",
        "if logic expression:\n",
        "  code block\n",
        "else:\n",
        "  else code block\n",
        "```"
      ]
    },
    {
      "cell_type": "code",
      "metadata": {
        "id": "CQNorWHRiY-4",
        "colab_type": "code",
        "colab": {
          "base_uri": "https://localhost:8080/",
          "height": 34
        },
        "outputId": "c6e093e9-7ae2-4836-d4d3-b89ab99c37aa"
      },
      "source": [
        "flag = False\n",
        "if flag:\n",
        "  print(\"Flag was on\")\n",
        "else:\n",
        "  print(\"Flag was off\")"
      ],
      "execution_count": null,
      "outputs": [
        {
          "output_type": "stream",
          "text": [
            "Flag was off\n"
          ],
          "name": "stdout"
        }
      ]
    },
    {
      "cell_type": "code",
      "metadata": {
        "id": "S0_prAWtjcG5",
        "colab_type": "code",
        "colab": {
          "base_uri": "https://localhost:8080/",
          "height": 34
        },
        "outputId": "80d2da82-759a-4c05-942b-b34b237b41de"
      },
      "source": [
        "if 0 or \"\" or None:\n",
        "  print(\"At least one was True\")\n",
        "else:\n",
        "  print(\"None was True\")"
      ],
      "execution_count": null,
      "outputs": [
        {
          "output_type": "stream",
          "text": [
            "None was True\n"
          ],
          "name": "stdout"
        }
      ]
    },
    {
      "cell_type": "markdown",
      "metadata": {
        "id": "TvmeyrgHkQHl",
        "colab_type": "text"
      },
      "source": [
        "**If Elif Syntax**\n",
        "\n",
        "```\n",
        "if logic expression:\n",
        "  code block\n",
        "elif logic expression:\n",
        "  elif code block\n",
        "elif logic expression:\n",
        "  elif code block\n",
        "  .\n",
        "  .\n",
        "  .\n",
        "else:\n",
        "  else code block\n",
        "\n",
        "```"
      ]
    },
    {
      "cell_type": "code",
      "metadata": {
        "id": "fvqnGW9xjuPh",
        "colab_type": "code",
        "colab": {
          "base_uri": "https://localhost:8080/",
          "height": 34
        },
        "outputId": "d2500da4-0ad5-4253-a5d7-45f97daf5727"
      },
      "source": [
        "if 4 > 5:\n",
        "  print(\"2 > 5\")\n",
        "elif 5 > 5:\n",
        "  print(\"5 > 5\")\n",
        "elif 6 > 5:\n",
        "  print(\"6 > 5\")\n",
        "else:\n",
        "  print(\"None of the options\") "
      ],
      "execution_count": null,
      "outputs": [
        {
          "output_type": "stream",
          "text": [
            "6 > 5\n"
          ],
          "name": "stdout"
        }
      ]
    },
    {
      "cell_type": "markdown",
      "metadata": {
        "id": "jn50t1qflO30",
        "colab_type": "text"
      },
      "source": [
        "### For loop\n",
        "\n",
        "```\n",
        "for varname in sequence:\n",
        "  code block\n",
        "```"
      ]
    },
    {
      "cell_type": "code",
      "metadata": {
        "id": "6CFn5PtGlOYx",
        "colab_type": "code",
        "colab": {
          "base_uri": "https://localhost:8080/",
          "height": 85
        },
        "outputId": "afdc54f2-a0ce-4adf-e823-a214020db0f0"
      },
      "source": [
        "sample_list = [ 1, 2, 3, 4 ]\n",
        "for i in sample_list:\n",
        "  print(i)"
      ],
      "execution_count": null,
      "outputs": [
        {
          "output_type": "stream",
          "text": [
            "1\n",
            "2\n",
            "3\n",
            "4\n"
          ],
          "name": "stdout"
        }
      ]
    },
    {
      "cell_type": "code",
      "metadata": {
        "id": "Xgmk_T29lOOH",
        "colab_type": "code",
        "colab": {
          "base_uri": "https://localhost:8080/",
          "height": 85
        },
        "outputId": "41508ecc-4cc9-43ed-9429-c2d953221331"
      },
      "source": [
        "for i in range(1,5):\n",
        "  print(i)"
      ],
      "execution_count": null,
      "outputs": [
        {
          "output_type": "stream",
          "text": [
            "1\n",
            "2\n",
            "3\n",
            "4\n"
          ],
          "name": "stdout"
        }
      ]
    },
    {
      "cell_type": "code",
      "metadata": {
        "id": "_yP_RhHxlODP",
        "colab_type": "code",
        "colab": {
          "base_uri": "https://localhost:8080/",
          "height": 51
        },
        "outputId": "bc63f382-b351-4a2c-d591-e65e282c9585"
      },
      "source": [
        "for i in range(3, 0, -1):\n",
        "  if i == 1:\n",
        "    break;                  # interrupring a loop\n",
        "  print(i)"
      ],
      "execution_count": null,
      "outputs": [
        {
          "output_type": "stream",
          "text": [
            "3\n",
            "2\n"
          ],
          "name": "stdout"
        }
      ]
    },
    {
      "cell_type": "markdown",
      "metadata": {
        "id": "wFByUVZBmjAE",
        "colab_type": "text"
      },
      "source": [
        "### While loop\n",
        "\n",
        "```\n",
        "while logical expression:\n",
        "  code block\n",
        "```"
      ]
    },
    {
      "cell_type": "code",
      "metadata": {
        "id": "w6boBAdGlN4n",
        "colab_type": "code",
        "colab": {
          "base_uri": "https://localhost:8080/",
          "height": 68
        },
        "outputId": "b1616ee7-78d6-4d50-fe17-09f40f54be7b"
      },
      "source": [
        "counter = 3\n",
        "while counter > 0:\n",
        "  print(counter)\n",
        "  counter -=1"
      ],
      "execution_count": null,
      "outputs": [
        {
          "output_type": "stream",
          "text": [
            "3\n",
            "2\n",
            "1\n"
          ],
          "name": "stdout"
        }
      ]
    },
    {
      "cell_type": "markdown",
      "metadata": {
        "id": "xrrtXo1cn7Bt",
        "colab_type": "text"
      },
      "source": [
        "# Functions\n",
        "\n",
        "Functions a blocks of statements than can be called repeatdly passing some paremeter and returning a result"
      ]
    },
    {
      "cell_type": "markdown",
      "metadata": {
        "id": "WSVzI2ttlLOq",
        "colab_type": "text"
      },
      "source": [
        "## Defining a function\n",
        "\n",
        "A function is defined using the `def` keyword"
      ]
    },
    {
      "cell_type": "code",
      "metadata": {
        "id": "Z9kYuQmBkyvM",
        "colab_type": "code",
        "colab": {
          "base_uri": "https://localhost:8080/",
          "height": 51
        },
        "outputId": "2d427344-6bbf-4da5-80e3-a6117e052004"
      },
      "source": [
        "def my_code():\n",
        "  print(\"Executing my_code()\")\n",
        "\n",
        "my_code()\n",
        "my_code()"
      ],
      "execution_count": null,
      "outputs": [
        {
          "output_type": "stream",
          "text": [
            "Executing my_code()\n",
            "Executing my_code()\n"
          ],
          "name": "stdout"
        }
      ]
    },
    {
      "cell_type": "markdown",
      "metadata": {
        "id": "2IHw0SLVok9i",
        "colab_type": "text"
      },
      "source": [
        "Using parameters:"
      ]
    },
    {
      "cell_type": "code",
      "metadata": {
        "id": "J2rX4_Gaoi6d",
        "colab_type": "code",
        "colab": {
          "base_uri": "https://localhost:8080/",
          "height": 34
        },
        "outputId": "c4b41296-6ef9-4e76-bf44-1d6383840ad9"
      },
      "source": [
        "def my_sum(a, b):\n",
        "  return a+b\n",
        "\n",
        "my_sum(10, 20)"
      ],
      "execution_count": null,
      "outputs": [
        {
          "output_type": "execute_result",
          "data": {
            "text/plain": [
              "30"
            ]
          },
          "metadata": {
            "tags": []
          },
          "execution_count": 35
        }
      ]
    },
    {
      "cell_type": "code",
      "metadata": {
        "id": "63aZwfIuot7Y",
        "colab_type": "code",
        "colab": {
          "base_uri": "https://localhost:8080/",
          "height": 34
        },
        "outputId": "37a14f63-82a5-486c-ebe1-bbb52ff909c8"
      },
      "source": [
        "def mult_return(a, b):\n",
        "  return a+b, a-b\n",
        "\n",
        "c, d = mult_return(10, 20)\n",
        "print(c, d)"
      ],
      "execution_count": null,
      "outputs": [
        {
          "output_type": "stream",
          "text": [
            "30 -10\n"
          ],
          "name": "stdout"
        }
      ]
    },
    {
      "cell_type": "markdown",
      "metadata": {
        "id": "r9HeR0YpsRyz",
        "colab_type": "text"
      },
      "source": [
        "Variable parameters:\n"
      ]
    },
    {
      "cell_type": "code",
      "metadata": {
        "id": "xNM-k00CsWaP",
        "colab_type": "code",
        "colab": {
          "base_uri": "https://localhost:8080/",
          "height": 170
        },
        "outputId": "ace83fef-45f9-4e46-ca13-10d9045aaec9"
      },
      "source": [
        "def my_func(a, *b):\n",
        "  print('---')\n",
        "  print(f\"a: {a}\")\n",
        "  for i in b:\n",
        "    print(\"other parameter: \", i)\n",
        "\n",
        "my_func(1)\n",
        "my_func(1, 2)\n",
        "my_func(1, 2, 3)\n"
      ],
      "execution_count": null,
      "outputs": [
        {
          "output_type": "stream",
          "text": [
            "---\n",
            "a: 1\n",
            "---\n",
            "a: 1\n",
            "other parameter:  2\n",
            "---\n",
            "a: 1\n",
            "other parameter:  2\n",
            "other parameter:  3\n"
          ],
          "name": "stdout"
        }
      ]
    },
    {
      "cell_type": "markdown",
      "metadata": {
        "id": "zrCpbQLotM4l",
        "colab_type": "text"
      },
      "source": [
        "Default values:"
      ]
    },
    {
      "cell_type": "code",
      "metadata": {
        "id": "pJUnEpQStSGM",
        "colab_type": "code",
        "colab": {
          "base_uri": "https://localhost:8080/",
          "height": 51
        },
        "outputId": "a99163bc-1c16-4fcd-edac-ce07281bf257"
      },
      "source": [
        "def concat_strings(strings, separator=' '):\n",
        "  ret = ''\n",
        "  for i, s in enumerate(strings):\n",
        "    if i == 0:\n",
        "      ret += s\n",
        "    else:\n",
        "      ret += separator + s\n",
        "  return ret\n",
        "\n",
        "print(concat_strings(['one', 'two', 'three']))\n",
        "print(concat_strings(['one', 'two', 'three'], '**'))\n"
      ],
      "execution_count": null,
      "outputs": [
        {
          "output_type": "stream",
          "text": [
            "one two three\n",
            "one**two**three\n"
          ],
          "name": "stdout"
        }
      ]
    },
    {
      "cell_type": "markdown",
      "metadata": {
        "id": "DMyI0Kzxj-mB",
        "colab_type": "text"
      },
      "source": [
        "Calling functions with argument names:\n"
      ]
    },
    {
      "cell_type": "code",
      "metadata": {
        "id": "LTIkq0VzkCDE",
        "colab_type": "code",
        "colab": {
          "base_uri": "https://localhost:8080/",
          "height": 51
        },
        "outputId": "be40cc25-28c6-4597-821f-e21c2b98cbd7"
      },
      "source": [
        "def sample_fn(param1 = 1, param2 = 2, param3=3):\n",
        "  print(f\"param1: {param1}, param2: {param2}, pararam3: {param3}\")\n",
        "\n",
        "sample_fn(param2=20)\n",
        "sample_fn(10, param3=30)\n"
      ],
      "execution_count": null,
      "outputs": [
        {
          "output_type": "stream",
          "text": [
            "param1: 1, param2: 20, pararam3: 3\n",
            "param1: 10, param2: 2, pararam3: 30\n"
          ],
          "name": "stdout"
        }
      ]
    },
    {
      "cell_type": "markdown",
      "metadata": {
        "id": "3wBIwur6pMBA",
        "colab_type": "text"
      },
      "source": [
        "Returning a function:"
      ]
    },
    {
      "cell_type": "code",
      "metadata": {
        "id": "niq7-v0upAta",
        "colab_type": "code",
        "colab": {
          "base_uri": "https://localhost:8080/",
          "height": 34
        },
        "outputId": "e4228517-1aa5-4adb-f698-fcd9e7919c5c"
      },
      "source": [
        "def create_multiply_by(a):\n",
        "  def dummy(b):\n",
        "    return a*b\n",
        "  return dummy\n",
        "\n",
        "mult_by_100 = create_multiply_by(100)\n",
        "\n",
        "mult_by_100(10)"
      ],
      "execution_count": null,
      "outputs": [
        {
          "output_type": "execute_result",
          "data": {
            "text/plain": [
              "1000"
            ]
          },
          "metadata": {
            "tags": []
          },
          "execution_count": 43
        }
      ]
    },
    {
      "cell_type": "markdown",
      "metadata": {
        "id": "LETh1Yg6k_WU",
        "colab_type": "text"
      },
      "source": [
        "## Variable scope\n",
        "\n",
        "The variable scope in Python is hierarchical. The resolution begins at function definition level and goes up until the global level and it not defined it tries the buildin level.\n",
        "\n",
        "\n"
      ]
    },
    {
      "cell_type": "markdown",
      "metadata": {
        "id": "l0HO6sOhmX3N",
        "colab_type": "text"
      },
      "source": [
        "### Local scope\n"
      ]
    },
    {
      "cell_type": "code",
      "metadata": {
        "id": "euThX0gXpt8i",
        "colab_type": "code",
        "colab": {
          "base_uri": "https://localhost:8080/",
          "height": 34
        },
        "outputId": "08340620-6f54-4f94-869a-635b73df92fb"
      },
      "source": [
        "def func():\n",
        "  myvar = 1\n",
        "  print(\"myvar: \", myvar)\n",
        "\n",
        "func()\n",
        "#print(\"myvar: \", myvar)"
      ],
      "execution_count": null,
      "outputs": [
        {
          "output_type": "stream",
          "text": [
            "myvar:  1\n"
          ],
          "name": "stdout"
        }
      ]
    },
    {
      "cell_type": "code",
      "metadata": {
        "id": "N3EQs052mmwO",
        "colab_type": "code",
        "colab": {
          "base_uri": "https://localhost:8080/",
          "height": 51
        },
        "outputId": "36894b2a-e39a-4345-ce45-c6552197fb6e"
      },
      "source": [
        "def func1():\n",
        "  myvar = 1\n",
        "\n",
        "  def func2():\n",
        "    print(\"myvar: \", myvar)\n",
        "  \n",
        "  func2()\n",
        "  print(\"myvar: \", myvar)\n",
        "\n",
        "func1()\n",
        "\n",
        "#print(\"myvar: \", myvar)"
      ],
      "execution_count": null,
      "outputs": [
        {
          "output_type": "stream",
          "text": [
            "myvar:  1\n",
            "myvar:  1\n"
          ],
          "name": "stdout"
        }
      ]
    },
    {
      "cell_type": "code",
      "metadata": {
        "id": "F5LK4eMRm7Xa",
        "colab_type": "code",
        "colab": {
          "base_uri": "https://localhost:8080/",
          "height": 68
        },
        "outputId": "4e4e19bf-4236-4b88-b98f-91836eca277c"
      },
      "source": [
        "myvar = 1\n",
        "def func1():\n",
        "\n",
        "  def func2():\n",
        "    print(\"myvar: \", myvar)\n",
        "  \n",
        "  func2()\n",
        "  print(\"myvar: \", myvar)\n",
        "\n",
        "func1()\n",
        "\n",
        "print(\"myvar: \", myvar)"
      ],
      "execution_count": null,
      "outputs": [
        {
          "output_type": "stream",
          "text": [
            "myvar:  1\n",
            "myvar:  1\n",
            "myvar:  1\n"
          ],
          "name": "stdout"
        }
      ]
    },
    {
      "cell_type": "markdown",
      "metadata": {
        "id": "b729tZxfpBtT",
        "colab_type": "text"
      },
      "source": [
        "# Classes\n",
        "\n",
        "Python also supports Object Oriented Programming (OOP). One can define classes and objects.\n",
        "\n",
        "Classes are a group of functions and variables used to instantiate an object based on the class."
      ]
    },
    {
      "cell_type": "markdown",
      "metadata": {
        "id": "kA6lLie8pcKP",
        "colab_type": "text"
      },
      "source": [
        "### Defining a class and instantiate an object\n",
        "\n",
        "Inside classes, the `self` special variable is used to get access to the instance object."
      ]
    },
    {
      "cell_type": "code",
      "metadata": {
        "id": "RsMcWwORpe0B",
        "colab_type": "code",
        "colab": {
          "base_uri": "https://localhost:8080/",
          "height": 51
        },
        "outputId": "eb023bfc-e955-4a1c-f6f2-4c3c8a16ec4a"
      },
      "source": [
        "class Square:\n",
        "  def __init__(self, side_length):     # This is the class constructor\n",
        "    self.side_length = side_length    \n",
        "\n",
        "  def perimeter(self):\n",
        "    return 4*self.side_length\n",
        "\n",
        "  def area(self):\n",
        "    return self.side_length**2\n",
        "\n",
        "sq1 = Square(1)\n",
        "sq2 = Square(2)\n",
        "\n",
        "print(f\"sq1 area: {sq1.area()} - sq1 perimeter: {sq1.perimeter()}\")\n",
        "print(f\"sq2 area: {sq2.area()} - sq2 perimeter: {sq2.perimeter()}\")\n",
        "\n"
      ],
      "execution_count": null,
      "outputs": [
        {
          "output_type": "stream",
          "text": [
            "sq1 area: 1 - sq1 perimeter: 4\n",
            "sq2 area: 4 - sq2 perimeter: 8\n"
          ],
          "name": "stdout"
        }
      ]
    },
    {
      "cell_type": "markdown",
      "metadata": {
        "id": "FB7ZSmTkr7Mm",
        "colab_type": "text"
      },
      "source": [
        "One class can have class attributes (the same for all instaces):"
      ]
    },
    {
      "cell_type": "code",
      "metadata": {
        "id": "GkiqHj36qzsj",
        "colab_type": "code",
        "colab": {}
      },
      "source": [
        "class Rectangle:\n",
        "  craeted_retangles = 0\n",
        "\n",
        "  def __init__(self, side_a, side_b):     # This is the class constructor\n",
        "    self.side_a = side_a\n",
        "    self.side_b = side_b  \n",
        "    Rectangle.craeted_retangles += 1  \n",
        "\n",
        "  def perimeter(self):\n",
        "    return 2*self.side_a + 2*self.side_b\n",
        "\n",
        "  def area(self):\n",
        "    return self.side_a **self.side_b"
      ],
      "execution_count": null,
      "outputs": []
    },
    {
      "cell_type": "code",
      "metadata": {
        "id": "XOA_5thlsV9A",
        "colab_type": "code",
        "colab": {
          "base_uri": "https://localhost:8080/",
          "height": 68
        },
        "outputId": "709fd7ba-71d3-405f-a026-841331b5afc1"
      },
      "source": [
        "rc1 = Rectangle(1, 2)\n",
        "rc2 = Rectangle(2, 3)\n",
        "\n",
        "print(f\"rc1 area: {rc1.area()} - rc1 perimeter: {rc1.perimeter()}\")\n",
        "print(f\"rc2 area: {rc2.area()} - rc2 perimeter: {rc2.perimeter()}\")\n",
        "\n",
        "print(f\"Created rectangles: {Rectangle.craeted_retangles}\")"
      ],
      "execution_count": null,
      "outputs": [
        {
          "output_type": "stream",
          "text": [
            "rc1 area: 1 - rc1 perimeter: 6\n",
            "rc2 area: 8 - rc2 perimeter: 10\n",
            "Created rectangles: 2\n"
          ],
          "name": "stdout"
        }
      ]
    },
    {
      "cell_type": "markdown",
      "metadata": {
        "id": "7P2XSocsvkrP",
        "colab_type": "text"
      },
      "source": [
        "### Operator overloading"
      ]
    },
    {
      "cell_type": "code",
      "metadata": {
        "id": "4iFeAVBLttww",
        "colab_type": "code",
        "colab": {
          "base_uri": "https://localhost:8080/",
          "height": 85
        },
        "outputId": "7a020c57-d0db-4bd8-c717-cac89d65a85e"
      },
      "source": [
        "class Square:\n",
        "  def __init__(self, side_length):     # This is the class constructor\n",
        "    self.side_length = side_length    \n",
        "\n",
        "  def perimeter(self):\n",
        "    return 4*self.side_length\n",
        "\n",
        "  def area(self):\n",
        "    return self.side_length**2\n",
        "\n",
        "  def __mul__(self, factor):\n",
        "    self.side_length *= factor\n",
        "    return self\n",
        "    #return Square(self.side_length*factor)\n",
        "\n",
        "sq1 = Square(1)\n",
        "sq2 = Square(2)\n",
        "\n",
        "print(f\"sq1 area: {sq1.area()} - sq1 perimeter: {sq1.perimeter()}\")\n",
        "print(f\"sq2 area: {sq2.area()} - sq2 perimeter: {sq2.perimeter()}\")\n",
        "\n",
        "sq3 = sq1 * 3\n",
        "print(f\"sq3 area: {sq3.area()} - sq3 perimeter: {sq3.perimeter()}\")\n",
        "print(f\"sq1 area: {sq1.area()} - sq1 perimeter: {sq1.perimeter()}\")\n",
        "\n"
      ],
      "execution_count": null,
      "outputs": [
        {
          "output_type": "stream",
          "text": [
            "sq1 area: 1 - sq1 perimeter: 4\n",
            "sq2 area: 4 - sq2 perimeter: 8\n",
            "sq3 area: 9 - sq3 perimeter: 12\n",
            "sq1 area: 9 - sq1 perimeter: 12\n"
          ],
          "name": "stdout"
        }
      ]
    },
    {
      "cell_type": "markdown",
      "metadata": {
        "id": "dt_k4HFDv3AF",
        "colab_type": "text"
      },
      "source": [
        "# Lambdas\n",
        "\n",
        "Python uses the `lambda` operator to create anonymous functions. This functions simplify the syntax of serveral mapping and filtering operations."
      ]
    },
    {
      "cell_type": "markdown",
      "metadata": {
        "id": "G_oB-veDxwZj",
        "colab_type": "text"
      },
      "source": [
        "**Mapping**\n",
        "\n",
        "Mapping is used to apply a fnction to each object of a list of iterables"
      ]
    },
    {
      "cell_type": "code",
      "metadata": {
        "id": "yZorbBPluaya",
        "colab_type": "code",
        "colab": {
          "base_uri": "https://localhost:8080/",
          "height": 34
        },
        "outputId": "7538bd4e-4504-4efd-83b4-cd7838b53cd5"
      },
      "source": [
        "my_list = [1, 2, 3]\n",
        "\n",
        "doubled_list = list(map(lambda v: v*2, my_list))\n",
        "doubled_list"
      ],
      "execution_count": null,
      "outputs": [
        {
          "output_type": "execute_result",
          "data": {
            "text/plain": [
              "[2, 4, 6]"
            ]
          },
          "metadata": {
            "tags": []
          },
          "execution_count": 48
        }
      ]
    },
    {
      "cell_type": "markdown",
      "metadata": {
        "id": "RBq2VHwMxz2g",
        "colab_type": "text"
      },
      "source": [
        "**Filtering**\n",
        "\n",
        "Filtering is used to apply a fnction to each object of a list of iterables, if the result of the applied function is `True`, the object is manteined, if not it is discarded."
      ]
    },
    {
      "cell_type": "code",
      "metadata": {
        "id": "pV6o9dzQxXep",
        "colab_type": "code",
        "colab": {
          "base_uri": "https://localhost:8080/",
          "height": 34
        },
        "outputId": "dd893234-ff3d-4693-bf99-8b934eb3f647"
      },
      "source": [
        "fruits = [ \"banana\", \"orange\", \"lemonn\", \"grape\", \"avocado\"]\n",
        "\n",
        "def exclude_from_list(l, exclusions):\n",
        "  return list(filter(lambda v: (v not in exclusions), l))\n",
        "\n",
        "exclude_from_list(fruits, [\"banana\", \"grape\"])\n"
      ],
      "execution_count": null,
      "outputs": [
        {
          "output_type": "execute_result",
          "data": {
            "text/plain": [
              "['orange', 'lemonn', 'avocado']"
            ]
          },
          "metadata": {
            "tags": []
          },
          "execution_count": 53
        }
      ]
    },
    {
      "cell_type": "markdown",
      "metadata": {
        "id": "DcTFpmAZqgIv",
        "colab_type": "text"
      },
      "source": [
        "#Pandas\n",
        "\n",
        "[Kaggle Pandas tutorials](https://www.kaggle.com/learn/pandas)\n",
        "\n",
        "[Kaggle Pandas exercises](https://www.kaggle.com/mbellezi/exercise-1-creating-panda-dataframes)"
      ]
    }
  ]
}